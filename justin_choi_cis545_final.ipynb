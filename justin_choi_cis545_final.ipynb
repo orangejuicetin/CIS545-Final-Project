{
 "nbformat": 4,
 "nbformat_minor": 2,
 "metadata": {
  "language_info": {
   "name": "python",
   "codemirror_mode": {
    "name": "ipython",
    "version": 3
   },
   "version": "3.7.6-final"
  },
  "orig_nbformat": 2,
  "file_extension": ".py",
  "mimetype": "text/x-python",
  "name": "python",
  "npconvert_exporter": "python",
  "pygments_lexer": "ipython3",
  "version": 3,
  "kernelspec": {
   "name": "python3",
   "display_name": "Python 3"
  }
 },
 "cells": [
  {
   "cell_type": "markdown",
   "metadata": {},
   "source": [
    "# CIS545: Final Project - CORD-19 Dataset\n",
    "## Justin Choi\n",
    "## TA: Hoyt Gong\n",
    "\n",
    "Hi there! For this project, I opted to use the COVID-19 research challenge dataset, which they named \"CORD-19\" (I promise, the title wasn't a typo haha), and below you'll see the respective EDA and modeling I've done for the dataset! Hope you enjoy ~\n"
   ]
  },
  {
   "cell_type": "code",
   "execution_count": 2,
   "metadata": {},
   "outputs": [],
   "source": [
    "import pandas as pd \n",
    "import numpy as np \n",
    "import sklearn\n",
    "import seaborn as sns\n",
    "import matplotlib\n",
    "import matplotlib.pyplot as plt"
   ]
  },
  {
   "cell_type": "code",
   "execution_count": 11,
   "metadata": {},
   "outputs": [
    {
     "output_type": "execute_result",
     "data": {
      "text/plain": "   cord_uid                                       sha source_x  \\\n0  xqhn0vbp  1e1286db212100993d03cc22374b624f7caee956      PMC   \n1  gi6uaa83  8ae137c8da1607b3a8e4c946c07ca8bda67f88ac      PMC   \n2  le0ogx1s                                       NaN      PMC   \n3  fy4w7xz8  0104f6ceccf92ae8567a0102f89cbb976969a774      PMC   \n4  0qaoam29  5b68a553a7cbbea13472721cd1ad617d42b40c26      PMC   \n\n                                               title                      doi  \\\n0  Airborne rhinovirus detection and effect of ul...    10.1186/1471-2458-3-5   \n1    Discovering human history from stomach bacteria  10.1186/gb-2003-4-5-213   \n2     A new recruit for the army of the men of death  10.1186/gb-2003-4-7-113   \n3  Association of HLA class I with severe acute r...    10.1186/1471-2350-4-9   \n4   A double epidemic model for the SARS propagation   10.1186/1471-2334-3-19   \n\n       pmcid   pubmed_id license  \\\n0  PMC140314  12525263.0   no-cc   \n1  PMC156578  12734001.0   no-cc   \n2  PMC193621  12844350.0   no-cc   \n3  PMC212558  12969506.0   no-cc   \n4  PMC222908  12964944.0   no-cc   \n\n                                            abstract publish_time  \\\n0  BACKGROUND: Rhinovirus, the most common cause ...   2003-01-13   \n1  Recent analyses of human pathogens have reveal...   2003-04-28   \n2  The army of the men of death, in John Bunyan's...   2003-06-27   \n3  BACKGROUND: The human leukocyte antigen (HLA) ...   2003-09-12   \n4  BACKGROUND: An epidemic of a Severe Acute Resp...   2003-09-10   \n\n                                             authors            journal  \\\n0  Myatt, Theodore A; Johnston, Sebastian L; Rudn...  BMC Public Health   \n1                                   Disotell, Todd R        Genome Biol   \n2                                  Petsko, Gregory A        Genome Biol   \n3  Lin, Marie; Tseng, Hsiang-Kuang; Trejaut, Jean...      BMC Med Genet   \n4  Ng, Tuen Wai; Turinici, Gabriel; Danchin, Antoine     BMC Infect Dis   \n\n   Microsoft Academic Paper ID WHO #Covidence  has_pdf_parse  \\\n0                          NaN            NaN           True   \n1                          NaN            NaN           True   \n2                          NaN            NaN          False   \n3                          NaN            NaN           True   \n4                          NaN            NaN           True   \n\n   has_pmc_xml_parse  full_text_file  \\\n0               True  custom_license   \n1               True  custom_license   \n2               True  custom_license   \n3               True  custom_license   \n4               True  custom_license   \n\n                                                 url  \n0  https://www.ncbi.nlm.nih.gov/pmc/articles/PMC1...  \n1  https://www.ncbi.nlm.nih.gov/pmc/articles/PMC1...  \n2  https://www.ncbi.nlm.nih.gov/pmc/articles/PMC1...  \n3  https://www.ncbi.nlm.nih.gov/pmc/articles/PMC2...  \n4  https://www.ncbi.nlm.nih.gov/pmc/articles/PMC2...  ",
      "text/html": "<div>\n<style scoped>\n    .dataframe tbody tr th:only-of-type {\n        vertical-align: middle;\n    }\n\n    .dataframe tbody tr th {\n        vertical-align: top;\n    }\n\n    .dataframe thead th {\n        text-align: right;\n    }\n</style>\n<table border=\"1\" class=\"dataframe\">\n  <thead>\n    <tr style=\"text-align: right;\">\n      <th></th>\n      <th>cord_uid</th>\n      <th>sha</th>\n      <th>source_x</th>\n      <th>title</th>\n      <th>doi</th>\n      <th>pmcid</th>\n      <th>pubmed_id</th>\n      <th>license</th>\n      <th>abstract</th>\n      <th>publish_time</th>\n      <th>authors</th>\n      <th>journal</th>\n      <th>Microsoft Academic Paper ID</th>\n      <th>WHO #Covidence</th>\n      <th>has_pdf_parse</th>\n      <th>has_pmc_xml_parse</th>\n      <th>full_text_file</th>\n      <th>url</th>\n    </tr>\n  </thead>\n  <tbody>\n    <tr>\n      <th>0</th>\n      <td>xqhn0vbp</td>\n      <td>1e1286db212100993d03cc22374b624f7caee956</td>\n      <td>PMC</td>\n      <td>Airborne rhinovirus detection and effect of ul...</td>\n      <td>10.1186/1471-2458-3-5</td>\n      <td>PMC140314</td>\n      <td>12525263.0</td>\n      <td>no-cc</td>\n      <td>BACKGROUND: Rhinovirus, the most common cause ...</td>\n      <td>2003-01-13</td>\n      <td>Myatt, Theodore A; Johnston, Sebastian L; Rudn...</td>\n      <td>BMC Public Health</td>\n      <td>NaN</td>\n      <td>NaN</td>\n      <td>True</td>\n      <td>True</td>\n      <td>custom_license</td>\n      <td>https://www.ncbi.nlm.nih.gov/pmc/articles/PMC1...</td>\n    </tr>\n    <tr>\n      <th>1</th>\n      <td>gi6uaa83</td>\n      <td>8ae137c8da1607b3a8e4c946c07ca8bda67f88ac</td>\n      <td>PMC</td>\n      <td>Discovering human history from stomach bacteria</td>\n      <td>10.1186/gb-2003-4-5-213</td>\n      <td>PMC156578</td>\n      <td>12734001.0</td>\n      <td>no-cc</td>\n      <td>Recent analyses of human pathogens have reveal...</td>\n      <td>2003-04-28</td>\n      <td>Disotell, Todd R</td>\n      <td>Genome Biol</td>\n      <td>NaN</td>\n      <td>NaN</td>\n      <td>True</td>\n      <td>True</td>\n      <td>custom_license</td>\n      <td>https://www.ncbi.nlm.nih.gov/pmc/articles/PMC1...</td>\n    </tr>\n    <tr>\n      <th>2</th>\n      <td>le0ogx1s</td>\n      <td>NaN</td>\n      <td>PMC</td>\n      <td>A new recruit for the army of the men of death</td>\n      <td>10.1186/gb-2003-4-7-113</td>\n      <td>PMC193621</td>\n      <td>12844350.0</td>\n      <td>no-cc</td>\n      <td>The army of the men of death, in John Bunyan's...</td>\n      <td>2003-06-27</td>\n      <td>Petsko, Gregory A</td>\n      <td>Genome Biol</td>\n      <td>NaN</td>\n      <td>NaN</td>\n      <td>False</td>\n      <td>True</td>\n      <td>custom_license</td>\n      <td>https://www.ncbi.nlm.nih.gov/pmc/articles/PMC1...</td>\n    </tr>\n    <tr>\n      <th>3</th>\n      <td>fy4w7xz8</td>\n      <td>0104f6ceccf92ae8567a0102f89cbb976969a774</td>\n      <td>PMC</td>\n      <td>Association of HLA class I with severe acute r...</td>\n      <td>10.1186/1471-2350-4-9</td>\n      <td>PMC212558</td>\n      <td>12969506.0</td>\n      <td>no-cc</td>\n      <td>BACKGROUND: The human leukocyte antigen (HLA) ...</td>\n      <td>2003-09-12</td>\n      <td>Lin, Marie; Tseng, Hsiang-Kuang; Trejaut, Jean...</td>\n      <td>BMC Med Genet</td>\n      <td>NaN</td>\n      <td>NaN</td>\n      <td>True</td>\n      <td>True</td>\n      <td>custom_license</td>\n      <td>https://www.ncbi.nlm.nih.gov/pmc/articles/PMC2...</td>\n    </tr>\n    <tr>\n      <th>4</th>\n      <td>0qaoam29</td>\n      <td>5b68a553a7cbbea13472721cd1ad617d42b40c26</td>\n      <td>PMC</td>\n      <td>A double epidemic model for the SARS propagation</td>\n      <td>10.1186/1471-2334-3-19</td>\n      <td>PMC222908</td>\n      <td>12964944.0</td>\n      <td>no-cc</td>\n      <td>BACKGROUND: An epidemic of a Severe Acute Resp...</td>\n      <td>2003-09-10</td>\n      <td>Ng, Tuen Wai; Turinici, Gabriel; Danchin, Antoine</td>\n      <td>BMC Infect Dis</td>\n      <td>NaN</td>\n      <td>NaN</td>\n      <td>True</td>\n      <td>True</td>\n      <td>custom_license</td>\n      <td>https://www.ncbi.nlm.nih.gov/pmc/articles/PMC2...</td>\n    </tr>\n  </tbody>\n</table>\n</div>"
     },
     "metadata": {},
     "execution_count": 11
    }
   ],
   "source": [
    "metadata_df = pd.read_csv('./CORD-19-research-challenge/metadata.csv')\n",
    "metadata_df.head()\n"
   ]
  }
 ]
}