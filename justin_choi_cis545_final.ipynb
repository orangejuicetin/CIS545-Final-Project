{
 "cells": [
  {
   "cell_type": "markdown",
   "metadata": {},
   "source": [
    "# CIS545: Final Project - CORD-19 Dataset\n",
    "## Justin Choi\n",
    "## TA: Hoyt Gong\n",
    "\n",
    "Hi there! For this project, I opted to use the COVID-19 research challenge dataset, which they named \"CORD-19\" (I promise, the title wasn't a typo haha), and below you'll see the respective EDA and modeling I've done for the dataset! Hope you enjoy ~\n"
   ]
  },
  {
   "cell_type": "code",
   "execution_count": 1,
   "metadata": {},
   "outputs": [],
   "source": [
    "import pandas as pd \n",
    "import numpy as np \n",
    "import sklearn\n",
    "import seaborn as sns\n",
    "import matplotlib\n",
    "import matplotlib.pyplot as plt\n",
    "import glob, os\n",
    "import nltk\n"
   ]
  },
  {
   "cell_type": "code",
   "execution_count": 5,
   "metadata": {
    "tags": [
     "outputPrepend",
     "outputPrepend",
     "outputPrepend",
     "outputPrepend",
     "outputPrepend",
     "outputPrepend",
     "outputPrepend",
     "outputPrepend",
     "outputPrepend",
     "outputPrepend",
     "outputPrepend"
    ]
   },
   "outputs": [
    {
     "output_type": "stream",
     "name": "stdout",
     "text": "finished getting files\n"
    }
   ],
   "source": [
    "metadata_df = pd.read_csv('./CORD-19-research-challenge/metadata.csv')\n",
    "\n",
    "# Import all the json files\n",
    "cord_19_folder = './CORD-19-research-challenge/'\n",
    "list_of_files = []; # only going to take those from pdf_json! not pmc_json\n",
    "for root, dirs, files in os.walk(cord_19_folder):\n",
    "    for name in files:\n",
    "        if (not(name.endswith('.xml.json')) and name.endswith('.json')):\n",
    "            full_path = os.path.join(root, name)\n",
    "            list_of_files.append(full_path)\n",
    "sorted(list_of_files)\n",
    "print('finished getting files')\n",
    "\n",
    "# files = [i for i in glob.glob('./CORD-19-research-challenge/custom_license/custom_license/pdf_json/*.json')]\n",
    "# sorted(files)\n",
    "\n",
    "# TODO Combine all into a single dataframe \"combined_data\" and add a 'country' column. \n",
    "# all_dataframes = list()\n",
    "# for csv in files:\n",
    "#   new_df = pd.read_csv(csv, index_col='video_id')\n",
    "#   country = re.match('\\/content\\/youtube_data\\/(\\w+)videos.csv', csv).group(1)\n",
    "#   new_df['country'] = country\n",
    "#   all_dataframes.append(new_df)\n",
    "\n",
    "# combined_data = pd.concat(all_dataframes)\n"
   ]
  },
  {
   "cell_type": "code",
   "execution_count": null,
   "metadata": {},
   "outputs": [],
   "source": []
  }
 ],
 "metadata": {
  "language_info": {
   "name": "python",
   "codemirror_mode": {
    "name": "ipython",
    "version": 3
   },
   "version": "3.7.6-final"
  },
  "orig_nbformat": 2,
  "file_extension": ".py",
  "mimetype": "text/x-python",
  "name": "python",
  "npconvert_exporter": "python",
  "pygments_lexer": "ipython3",
  "version": 3,
  "kernelspec": {
   "name": "python3",
   "display_name": "Python 3"
  }
 },
 "nbformat": 4,
 "nbformat_minor": 2
}