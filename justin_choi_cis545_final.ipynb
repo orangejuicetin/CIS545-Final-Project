{
 "cells": [
  {
   "cell_type": "markdown",
   "metadata": {},
   "source": [
    "# CIS545: Final Project - CORD-19 Dataset\n",
    "## Justin Choi\n",
    "## TA: Hoyt Gong\n",
    "\n",
    "Hi there! For this project, I opted to use the COVID-19 research challenge dataset, which they named \"CORD-19\" (I promise, the title wasn't a typo haha), and below you'll see the respective EDA and modeling I've done for the dataset! Hope you enjoy ~\n"
   ]
  },
  {
   "cell_type": "code",
   "execution_count": 1,
   "metadata": {},
   "outputs": [],
   "source": [
    "import pandas as pd \n",
    "import numpy as np \n",
    "import sklearn\n",
    "import seaborn as sns\n",
    "import matplotlib.pyplot as plt\n",
    "plt.style.use('fivethirtyeight')\n",
    "import glob, os\n",
    "import json\n",
    "import nltk\n"
   ]
  },
  {
   "cell_type": "code",
   "execution_count": 2,
   "metadata": {
    "tags": [
     "outputPrepend",
     "outputPrepend",
     "outputPrepend",
     "outputPrepend",
     "outputPrepend",
     "outputPrepend",
     "outputPrepend",
     "outputPrepend",
     "outputPrepend",
     "outputPrepend",
     "outputPrepend"
    ]
   },
   "outputs": [
    {
     "output_type": "stream",
     "name": "stdout",
     "text": "done\n"
    }
   ],
   "source": [
    "metadata_df = pd.read_csv('./CORD-19-research-challenge/metadata.csv')\n",
    "\n",
    "# Import all the json files\n",
    "cord_19_folder = './CORD-19-research-challenge/'\n",
    "list_of_files = []; # only going to take those from pdf_json! not pmc_json\n",
    "for root, dirs, files in os.walk(cord_19_folder):\n",
    "    for name in files:\n",
    "        if (name.endswith('.json')):\n",
    "            full_path = os.path.join(root, name)\n",
    "            list_of_files.append(full_path)\n",
    "sorted(list_of_files)\n",
    "print('done')\n",
    "\n",
    "# ALTERNATE\n",
    "\n",
    "# all_json = glob.glob(f'{cord_19_folder}/**/*.json', recursive=True)\n",
    "# len(all_json)\n"
   ]
  },
  {
   "cell_type": "code",
   "execution_count": 5,
   "metadata": {
    "tags": [
     "outputPrepend"
    ]
   },
   "outputs": [
    {
     "output_type": "stream",
     "name": "stdout",
     "text": "PMC1403753: Migration, transmigration, [1] return migration, and remigration constitute defining elements of the current and future world order. More than 700 million people (including visitors on business or personal/family trips) traverse nation-state borders annually [2,3] and one million per week move between the global South and the global North [4]. The enormity of contemporary transnational mobility is illustrated by the case of Australia. In the past half century, Australia's \"resident population ha...\n"
    }
   ],
   "source": [
    "class JsonReader:\n",
    "    def __init__(self, file_path):\n",
    "        with open(file_path) as file: \n",
    "            content = json.load(file)\n",
    "            \n",
    "            # start to insert the abstract and body text \n",
    "            self.paper_id = content['paper_id']\n",
    "            self.abstract = []\n",
    "            self.body_text = [] \n",
    "            for entry in content['body_text']:\n",
    "                self.body_text.append(entry['text'])\n",
    "            self.body_text = '\\n'.join(self.body_text)\n",
    "    def __repr__(self):\n",
    "        return f'{self.paper_id}: {self.body_text[:500]}...'\n",
    "\n",
    "random_json = list_of_files[47404]\n",
    "sample_article = JsonReader(random_json)\n",
    "print(sample_article)"
   ]
  },
  {
   "cell_type": "code",
   "execution_count": 6,
   "metadata": {},
   "outputs": [
    {
     "output_type": "stream",
     "name": "stdout",
     "text": "Processing 0 of 59311\nProcessing 5931 of 59311\nProcessing 11862 of 59311\nProcessing 17793 of 59311\nProcessing 23724 of 59311\nProcessing 29655 of 59311\nProcessing 35586 of 59311\nProcessing 41517 of 59311\nProcessing 47448 of 59311\nProcessing 53379 of 59311\nProcessing 59310 of 59311\n"
    }
   ],
   "source": [
    "input = {'paper_id': [], 'doi':[], 'abstract': [], 'body_text': [], 'authors': [], 'title': [], 'journal': []}\n",
    "\n",
    "for index, entry in enumerate(list_of_files):\n",
    "    if index % (len(list_of_files) // 10) ==    0:\n",
    "        print(f'Processing {index} of {len(list_of_files)}')\n",
    "    try: \n",
    "        article = JsonReader(entry)\n",
    "    except Exception as e: \n",
    "        continue #means that we don't have a valid file format  \n",
    "    \n",
    "    metadata = metadata_df.loc[metadata_df['sha'] == article.paper_id]\n",
    "    if len(metadata) == 0:\n",
    "        continue # no such metadata for paper in our csv, skip\n",
    "\n",
    "    input['body_text'].append(article.body_text)\n",
    "    input['paper_id'].append(article.paper_id)\n",
    "\n",
    "    # add in metadata \n",
    "    title = metadata_df['title'].values[0] \n",
    "    doi = metadata_df['doi'].values[0] \n",
    "    abstract = metadata_df['abstract'].values[0] \n",
    "    authors = metadata_df['authors'].values[0] \n",
    "    journal = metadata_df['journal'].values[0] \n",
    "\n",
    "    input['title'].append(title)\n",
    "    input['doi'].append(doi)\n",
    "    input['abstract'].append(abstract)\n",
    "    input['authors'].append(authors)\n",
    "    input['journal'].append(journal)\n",
    "\n"
   ]
  },
  {
   "cell_type": "code",
   "execution_count": 7,
   "metadata": {},
   "outputs": [
    {
     "output_type": "execute_result",
     "data": {
      "text/plain": "                                   paper_id                    doi  \\\n0  4ed70c27f14b7f9e6219fe605eae2b21a229f23c  10.1186/1471-2458-3-5   \n1  306ef95a3a91e13a93bcc37fb2c509b67c0b5640  10.1186/1471-2458-3-5   \n2  ab680d5dbc4f51252da3473109a7885dd6b5eb6f  10.1186/1471-2458-3-5   \n3  6599ebbef3d868afac9daa4f80fa075675cf03bc  10.1186/1471-2458-3-5   \n4  eb5c7f3ff921ad6469b79cc8a3c122648204ece4  10.1186/1471-2458-3-5   \n\n                                            abstract  \\\n0  BACKGROUND: Rhinovirus, the most common cause ...   \n1  BACKGROUND: Rhinovirus, the most common cause ...   \n2  BACKGROUND: Rhinovirus, the most common cause ...   \n3  BACKGROUND: Rhinovirus, the most common cause ...   \n4  BACKGROUND: Rhinovirus, the most common cause ...   \n\n                                           body_text  \\\n0  The Middle East respiratory syndrome coronavir...   \n1  The 2019 novel coronavirus (SARS-CoV-2), ident...   \n2  The evolutionary history of humans is characte...   \n3  Sixty years ago, civil aviation was an infant ...   \n4  Acute infections of the gastrointestinal tract...   \n\n                                             authors  \\\n0  Myatt, Theodore A; Johnston, Sebastian L; Rudn...   \n1  Myatt, Theodore A; Johnston, Sebastian L; Rudn...   \n2  Myatt, Theodore A; Johnston, Sebastian L; Rudn...   \n3  Myatt, Theodore A; Johnston, Sebastian L; Rudn...   \n4  Myatt, Theodore A; Johnston, Sebastian L; Rudn...   \n\n                                               title            journal  \n0  Airborne rhinovirus detection and effect of ul...  BMC Public Health  \n1  Airborne rhinovirus detection and effect of ul...  BMC Public Health  \n2  Airborne rhinovirus detection and effect of ul...  BMC Public Health  \n3  Airborne rhinovirus detection and effect of ul...  BMC Public Health  \n4  Airborne rhinovirus detection and effect of ul...  BMC Public Health  ",
      "text/html": "<div>\n<style scoped>\n    .dataframe tbody tr th:only-of-type {\n        vertical-align: middle;\n    }\n\n    .dataframe tbody tr th {\n        vertical-align: top;\n    }\n\n    .dataframe thead th {\n        text-align: right;\n    }\n</style>\n<table border=\"1\" class=\"dataframe\">\n  <thead>\n    <tr style=\"text-align: right;\">\n      <th></th>\n      <th>paper_id</th>\n      <th>doi</th>\n      <th>abstract</th>\n      <th>body_text</th>\n      <th>authors</th>\n      <th>title</th>\n      <th>journal</th>\n    </tr>\n  </thead>\n  <tbody>\n    <tr>\n      <th>0</th>\n      <td>4ed70c27f14b7f9e6219fe605eae2b21a229f23c</td>\n      <td>10.1186/1471-2458-3-5</td>\n      <td>BACKGROUND: Rhinovirus, the most common cause ...</td>\n      <td>The Middle East respiratory syndrome coronavir...</td>\n      <td>Myatt, Theodore A; Johnston, Sebastian L; Rudn...</td>\n      <td>Airborne rhinovirus detection and effect of ul...</td>\n      <td>BMC Public Health</td>\n    </tr>\n    <tr>\n      <th>1</th>\n      <td>306ef95a3a91e13a93bcc37fb2c509b67c0b5640</td>\n      <td>10.1186/1471-2458-3-5</td>\n      <td>BACKGROUND: Rhinovirus, the most common cause ...</td>\n      <td>The 2019 novel coronavirus (SARS-CoV-2), ident...</td>\n      <td>Myatt, Theodore A; Johnston, Sebastian L; Rudn...</td>\n      <td>Airborne rhinovirus detection and effect of ul...</td>\n      <td>BMC Public Health</td>\n    </tr>\n    <tr>\n      <th>2</th>\n      <td>ab680d5dbc4f51252da3473109a7885dd6b5eb6f</td>\n      <td>10.1186/1471-2458-3-5</td>\n      <td>BACKGROUND: Rhinovirus, the most common cause ...</td>\n      <td>The evolutionary history of humans is characte...</td>\n      <td>Myatt, Theodore A; Johnston, Sebastian L; Rudn...</td>\n      <td>Airborne rhinovirus detection and effect of ul...</td>\n      <td>BMC Public Health</td>\n    </tr>\n    <tr>\n      <th>3</th>\n      <td>6599ebbef3d868afac9daa4f80fa075675cf03bc</td>\n      <td>10.1186/1471-2458-3-5</td>\n      <td>BACKGROUND: Rhinovirus, the most common cause ...</td>\n      <td>Sixty years ago, civil aviation was an infant ...</td>\n      <td>Myatt, Theodore A; Johnston, Sebastian L; Rudn...</td>\n      <td>Airborne rhinovirus detection and effect of ul...</td>\n      <td>BMC Public Health</td>\n    </tr>\n    <tr>\n      <th>4</th>\n      <td>eb5c7f3ff921ad6469b79cc8a3c122648204ece4</td>\n      <td>10.1186/1471-2458-3-5</td>\n      <td>BACKGROUND: Rhinovirus, the most common cause ...</td>\n      <td>Acute infections of the gastrointestinal tract...</td>\n      <td>Myatt, Theodore A; Johnston, Sebastian L; Rudn...</td>\n      <td>Airborne rhinovirus detection and effect of ul...</td>\n      <td>BMC Public Health</td>\n    </tr>\n  </tbody>\n</table>\n</div>"
     },
     "metadata": {},
     "execution_count": 7
    }
   ],
   "source": [
    "covid_df = pd.DataFrame(input, columns=['paper_id', 'doi', 'abstract', 'body_text', 'authors', 'title', 'journal'])\n",
    "covid_df.head()"
   ]
  },
  {
   "cell_type": "code",
   "execution_count": 8,
   "metadata": {},
   "outputs": [
    {
     "output_type": "execute_result",
     "data": {
      "text/plain": "                                   paper_id                    doi  \\\n0  4ed70c27f14b7f9e6219fe605eae2b21a229f23c  10.1186/1471-2458-3-5   \n1  306ef95a3a91e13a93bcc37fb2c509b67c0b5640  10.1186/1471-2458-3-5   \n2  ab680d5dbc4f51252da3473109a7885dd6b5eb6f  10.1186/1471-2458-3-5   \n3  6599ebbef3d868afac9daa4f80fa075675cf03bc  10.1186/1471-2458-3-5   \n4  eb5c7f3ff921ad6469b79cc8a3c122648204ece4  10.1186/1471-2458-3-5   \n\n                                            abstract  \\\n0  BACKGROUND: Rhinovirus, the most common cause ...   \n1  BACKGROUND: Rhinovirus, the most common cause ...   \n2  BACKGROUND: Rhinovirus, the most common cause ...   \n3  BACKGROUND: Rhinovirus, the most common cause ...   \n4  BACKGROUND: Rhinovirus, the most common cause ...   \n\n                                           body_text  \\\n0  The Middle East respiratory syndrome coronavir...   \n1  The 2019 novel coronavirus (SARS-CoV-2), ident...   \n2  The evolutionary history of humans is characte...   \n3  Sixty years ago, civil aviation was an infant ...   \n4  Acute infections of the gastrointestinal tract...   \n\n                                             authors  \\\n0  Myatt, Theodore A; Johnston, Sebastian L; Rudn...   \n1  Myatt, Theodore A; Johnston, Sebastian L; Rudn...   \n2  Myatt, Theodore A; Johnston, Sebastian L; Rudn...   \n3  Myatt, Theodore A; Johnston, Sebastian L; Rudn...   \n4  Myatt, Theodore A; Johnston, Sebastian L; Rudn...   \n\n                                               title            journal  \\\n0  Airborne rhinovirus detection and effect of ul...  BMC Public Health   \n1  Airborne rhinovirus detection and effect of ul...  BMC Public Health   \n2  Airborne rhinovirus detection and effect of ul...  BMC Public Health   \n3  Airborne rhinovirus detection and effect of ul...  BMC Public Health   \n4  Airborne rhinovirus detection and effect of ul...  BMC Public Health   \n\n   abstract_word_count  body_word_count  body_unique_count  \n0                  240             2748                996  \n1                  240              944                486  \n2                  240             2884               1091  \n3                  240             5838               1587  \n4                  240             6972               2249  ",
      "text/html": "<div>\n<style scoped>\n    .dataframe tbody tr th:only-of-type {\n        vertical-align: middle;\n    }\n\n    .dataframe tbody tr th {\n        vertical-align: top;\n    }\n\n    .dataframe thead th {\n        text-align: right;\n    }\n</style>\n<table border=\"1\" class=\"dataframe\">\n  <thead>\n    <tr style=\"text-align: right;\">\n      <th></th>\n      <th>paper_id</th>\n      <th>doi</th>\n      <th>abstract</th>\n      <th>body_text</th>\n      <th>authors</th>\n      <th>title</th>\n      <th>journal</th>\n      <th>abstract_word_count</th>\n      <th>body_word_count</th>\n      <th>body_unique_count</th>\n    </tr>\n  </thead>\n  <tbody>\n    <tr>\n      <th>0</th>\n      <td>4ed70c27f14b7f9e6219fe605eae2b21a229f23c</td>\n      <td>10.1186/1471-2458-3-5</td>\n      <td>BACKGROUND: Rhinovirus, the most common cause ...</td>\n      <td>The Middle East respiratory syndrome coronavir...</td>\n      <td>Myatt, Theodore A; Johnston, Sebastian L; Rudn...</td>\n      <td>Airborne rhinovirus detection and effect of ul...</td>\n      <td>BMC Public Health</td>\n      <td>240</td>\n      <td>2748</td>\n      <td>996</td>\n    </tr>\n    <tr>\n      <th>1</th>\n      <td>306ef95a3a91e13a93bcc37fb2c509b67c0b5640</td>\n      <td>10.1186/1471-2458-3-5</td>\n      <td>BACKGROUND: Rhinovirus, the most common cause ...</td>\n      <td>The 2019 novel coronavirus (SARS-CoV-2), ident...</td>\n      <td>Myatt, Theodore A; Johnston, Sebastian L; Rudn...</td>\n      <td>Airborne rhinovirus detection and effect of ul...</td>\n      <td>BMC Public Health</td>\n      <td>240</td>\n      <td>944</td>\n      <td>486</td>\n    </tr>\n    <tr>\n      <th>2</th>\n      <td>ab680d5dbc4f51252da3473109a7885dd6b5eb6f</td>\n      <td>10.1186/1471-2458-3-5</td>\n      <td>BACKGROUND: Rhinovirus, the most common cause ...</td>\n      <td>The evolutionary history of humans is characte...</td>\n      <td>Myatt, Theodore A; Johnston, Sebastian L; Rudn...</td>\n      <td>Airborne rhinovirus detection and effect of ul...</td>\n      <td>BMC Public Health</td>\n      <td>240</td>\n      <td>2884</td>\n      <td>1091</td>\n    </tr>\n    <tr>\n      <th>3</th>\n      <td>6599ebbef3d868afac9daa4f80fa075675cf03bc</td>\n      <td>10.1186/1471-2458-3-5</td>\n      <td>BACKGROUND: Rhinovirus, the most common cause ...</td>\n      <td>Sixty years ago, civil aviation was an infant ...</td>\n      <td>Myatt, Theodore A; Johnston, Sebastian L; Rudn...</td>\n      <td>Airborne rhinovirus detection and effect of ul...</td>\n      <td>BMC Public Health</td>\n      <td>240</td>\n      <td>5838</td>\n      <td>1587</td>\n    </tr>\n    <tr>\n      <th>4</th>\n      <td>eb5c7f3ff921ad6469b79cc8a3c122648204ece4</td>\n      <td>10.1186/1471-2458-3-5</td>\n      <td>BACKGROUND: Rhinovirus, the most common cause ...</td>\n      <td>Acute infections of the gastrointestinal tract...</td>\n      <td>Myatt, Theodore A; Johnston, Sebastian L; Rudn...</td>\n      <td>Airborne rhinovirus detection and effect of ul...</td>\n      <td>BMC Public Health</td>\n      <td>240</td>\n      <td>6972</td>\n      <td>2249</td>\n    </tr>\n  </tbody>\n</table>\n</div>"
     },
     "metadata": {},
     "execution_count": 8
    }
   ],
   "source": [
    "covid_df['abstract_word_count'] = covid_df['abstract'].apply(lambda x : len(x.strip().split()))\n",
    "covid_df['body_word_count'] = covid_df['body_text'].apply(lambda x : len(x.strip().split()))\n",
    "covid_df['body_unique_count'] = covid_df['body_text'].apply(lambda x : len(set(x.strip().split())))\n",
    "covid_df.head()"
   ]
  }
 ],
 "metadata": {
  "language_info": {
   "name": "python",
   "codemirror_mode": {
    "name": "ipython",
    "version": 3
   },
   "version": "3.7.6-final"
  },
  "orig_nbformat": 2,
  "file_extension": ".py",
  "mimetype": "text/x-python",
  "name": "python",
  "npconvert_exporter": "python",
  "pygments_lexer": "ipython3",
  "version": 3,
  "kernelspec": {
   "name": "python3",
   "display_name": "Python 3"
  }
 },
 "nbformat": 4,
 "nbformat_minor": 2
}