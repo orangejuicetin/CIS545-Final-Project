{
 "cells": [
  {
   "cell_type": "markdown",
   "metadata": {},
   "source": [
    "# CIS545: Final Project - CORD-19 Dataset\n",
    "## Justin Choi\n",
    "## TA: Hoyt Gong\n",
    "\n",
    "Hi there! For this project, I opted to use the COVID-19 research challenge dataset, which they named \"CORD-19\" (I promise, the title wasn't a typo haha), and below you'll see the respective EDA and modeling I've done for the dataset! Hope you enjoy ~\n"
   ]
  },
  {
   "cell_type": "code",
   "execution_count": 30,
   "metadata": {},
   "outputs": [],
   "source": [
    "import pandas as pd \n",
    "import numpy as np \n",
    "import sklearn\n",
    "import seaborn as sns\n",
    "import matplotlib.pyplot as plt\n",
    "plt.style.use('fivethirtyeight')\n",
    "import glob, os\n",
    "import json\n",
    "import nltk\n"
   ]
  },
  {
   "cell_type": "code",
   "execution_count": 31,
   "metadata": {
    "tags": [
     "outputPrepend",
     "outputPrepend",
     "outputPrepend",
     "outputPrepend",
     "outputPrepend",
     "outputPrepend",
     "outputPrepend",
     "outputPrepend",
     "outputPrepend",
     "outputPrepend",
     "outputPrepend"
    ]
   },
   "outputs": [
    {
     "output_type": "stream",
     "name": "stdout",
     "text": "done\n"
    }
   ],
   "source": [
    "metadata_df = pd.read_csv('./CORD-19-research-challenge/metadata.csv')\n",
    "\n",
    "# Import all the json files\n",
    "cord_19_folder = './CORD-19-research-challenge/'\n",
    "list_of_files = []; # only going to take those from pdf_json! not pmc_json\n",
    "for root, dirs, files in os.walk(cord_19_folder):\n",
    "    for name in files:\n",
    "        if (name.endswith('.json')):\n",
    "            full_path = os.path.join(root, name)\n",
    "            list_of_files.append(full_path)\n",
    "sorted(list_of_files)\n",
    "print('done')\n",
    "\n",
    "# ALTERNATE\n",
    "\n",
    "# all_json = glob.glob(f'{cord_19_folder}/**/*.json', recursive=True)\n",
    "# len(all_json)\n"
   ]
  },
  {
   "cell_type": "code",
   "execution_count": 32,
   "metadata": {
    "tags": [
     "outputPrepend"
    ]
   },
   "outputs": [
    {
     "output_type": "stream",
     "name": "stdout",
     "text": "PMC1403753: Migration, transmigration, [1] return migration, and remigration constitute defining elements of the current and future world order. More than 700 million people (including visitors on business or personal/family trips) traverse nation-state borders annually [2,3] and one million per week move between the global South and the global North [4]. The enormity of contemporary transnational mobility is illustrated by the case of Australia. In the past half century, Australia's \"resident population ha...\n"
    }
   ],
   "source": [
    "class JsonReader:\n",
    "    def __init__(self, file_path):\n",
    "        with open(file_path) as file: \n",
    "            content = json.load(file)\n",
    "            # start to insert body text \n",
    "            self.paper_id = content['paper_id']\n",
    "            self.body_text = [] \n",
    "            for entry in content['body_text']:\n",
    "                self.body_text.append(entry['text'])\n",
    "            self.body_text = '\\n'.join(self.body_text)\n",
    "    def __repr__(self):\n",
    "        return f'{self.paper_id}: {self.body_text[:500]}...'\n",
    "\n",
    "random_json = list_of_files[47404]\n",
    "sample_article = JsonReader(random_json)\n",
    "print(sample_article)"
   ]
  },
  {
   "cell_type": "code",
   "execution_count": 33,
   "metadata": {},
   "outputs": [
    {
     "output_type": "stream",
     "name": "stdout",
     "text": "Processing 0 of 59311\nProcessing 5931 of 59311\nProcessing 11862 of 59311\nProcessing 17793 of 59311\nProcessing 23724 of 59311\nProcessing 29655 of 59311\nProcessing 35586 of 59311\nProcessing 41517 of 59311\nProcessing 47448 of 59311\nProcessing 53379 of 59311\nProcessing 59310 of 59311\n"
    }
   ],
   "source": [
    "input = {'paper_id': [], 'doi':[], 'abstract': [], 'body_text': [], 'authors': [], 'title': [], 'journal': []}\n",
    "\n",
    "for index, entry in enumerate(list_of_files):\n",
    "    if index % (len(list_of_files) // 10) ==    0:\n",
    "        print(f'Processing {index} of {len(list_of_files)}')\n",
    "    try: \n",
    "        article = JsonReader(entry)\n",
    "    except Exception as e: \n",
    "        continue #means that we don't have a valid file format  \n",
    "    \n",
    "    metadata = metadata_df.loc[metadata_df['sha'] == article.paper_id]\n",
    "    if len(metadata) == 0:\n",
    "        continue # no such metadata for paper in our csv, skip\n",
    "\n",
    "    input['body_text'].append(article.body_text)\n",
    "    input['paper_id'].append(article.paper_id)\n",
    "\n",
    "    # add in metadata \n",
    "    title = metadata['title'].values[0] \n",
    "    doi = metadata['doi'].values[0] \n",
    "    abstract = metadata['abstract'].values[0] \n",
    "    authors = metadata['authors'].values[0] \n",
    "    journal = metadata['journal'].values[0] \n",
    "\n",
    "    input['title'].append(title)\n",
    "    input['doi'].append(doi)\n",
    "    input['abstract'].append(abstract)\n",
    "    input['authors'].append(authors)\n",
    "    input['journal'].append(journal)\n",
    "\n"
   ]
  },
  {
   "cell_type": "code",
   "execution_count": 46,
   "metadata": {},
   "outputs": [
    {
     "output_type": "stream",
     "name": "stdout",
     "text": "finished creating dataframe from input dictionary\nnumber of rows: 36009\n"
    }
   ],
   "source": [
    "covid_df = pd.DataFrame(input, columns=['paper_id', 'doi', 'abstract', 'body_text', 'authors', 'title', 'journal'])\n",
    "print('finished creating dataframe from input dictionary')\n",
    "rows, cols = covid_df.shape\n",
    "print(f'number of rows: {rows}')"
   ]
  },
  {
   "cell_type": "code",
   "execution_count": 47,
   "metadata": {},
   "outputs": [
    {
     "output_type": "stream",
     "name": "stdout",
     "text": "finished dropping articles with null abstracts/body text/titles\nnumber of rows: 31641\n"
    }
   ],
   "source": [
    "covid_df.dropna(subset=['abstract', 'title', 'body_text'], inplace=True)\n",
    "print('finished dropping articles with null abstracts/body text/titles')\n",
    "rows, cols = covid_df.shape\n",
    "print(f'number of rows: {rows}')"
   ]
  },
  {
   "cell_type": "code",
   "execution_count": 48,
   "metadata": {},
   "outputs": [
    {
     "output_type": "execute_result",
     "data": {
      "text/plain": "                                   paper_id  \\\n0  4ed70c27f14b7f9e6219fe605eae2b21a229f23c   \n1  306ef95a3a91e13a93bcc37fb2c509b67c0b5640   \n2  ab680d5dbc4f51252da3473109a7885dd6b5eb6f   \n3  6599ebbef3d868afac9daa4f80fa075675cf03bc   \n5  44290ff75bad8ffaf5d3028420739ce7b08dc2a9   \n\n                                  doi  \\\n0       10.1080/14787210.2017.1271712   \n1                 10.1093/cid/ciaa256   \n2  10.1016/b978-0-12-800049-6.00293-6   \n3         10.1016/j.enpol.2008.08.029   \n5                  10.1093/jac/dkp502   \n\n                                            abstract  \\\n0  Introduction: The Middle East Respiratory Synd...   \n1  Thousands of people in the United States have ...   \n2  Abstract This article discusses how evolutiona...   \n3  Abstract International aviation is growing rap...   \n5  OBJECTIVES: Enterovirus 71 (EV71) causes serio...   \n\n                                           body_text  \\\n0  The Middle East respiratory syndrome coronavir...   \n1  The 2019 novel coronavirus (SARS-CoV-2), ident...   \n2  The evolutionary history of humans is characte...   \n3  Sixty years ago, civil aviation was an infant ...   \n5  Enteroviruses are members of the family Picorn...   \n\n                                             authors  \\\n0              Al-Tawfiq, Jaffar A.; Memish, Ziad A.   \n1  Bryson-Cahn, Chloe; Duchin, Jeffrey; Makarewic...   \n2                                     Scarpino, S.V.   \n3                 Macintosh, Andrew; Wallace, Lailey   \n5  Hung, Hui-Chen; Chen, Tzu-Chun; Fang, Ming-Yu;...   \n\n                                               title  \\\n0  Update on therapeutic options for Middle East ...   \n1  A Novel Approach for a Novel Pathogen: using a...   \n2  Evolutionary Medicine IV. Evolution and Emerge...   \n3  International aviation emissions to 2025: Can ...   \n5  Inhibition of enterovirus 71 replication and t...   \n\n                                journal  abstract_word_count  body_word_count  \\\n0           Expert Rev Anti Infect Ther                  174             2748   \n1                       Clin Infect Dis                   50              944   \n2  Encyclopedia of Evolutionary Biology                   72             2884   \n3                         Energy Policy                  137             5838   \n5                J Antimicrob Chemother                  260             3121   \n\n   body_unique_count  \n0                996  \n1                486  \n2               1091  \n3               1587  \n5               1064  ",
      "text/html": "<div>\n<style scoped>\n    .dataframe tbody tr th:only-of-type {\n        vertical-align: middle;\n    }\n\n    .dataframe tbody tr th {\n        vertical-align: top;\n    }\n\n    .dataframe thead th {\n        text-align: right;\n    }\n</style>\n<table border=\"1\" class=\"dataframe\">\n  <thead>\n    <tr style=\"text-align: right;\">\n      <th></th>\n      <th>paper_id</th>\n      <th>doi</th>\n      <th>abstract</th>\n      <th>body_text</th>\n      <th>authors</th>\n      <th>title</th>\n      <th>journal</th>\n      <th>abstract_word_count</th>\n      <th>body_word_count</th>\n      <th>body_unique_count</th>\n    </tr>\n  </thead>\n  <tbody>\n    <tr>\n      <th>0</th>\n      <td>4ed70c27f14b7f9e6219fe605eae2b21a229f23c</td>\n      <td>10.1080/14787210.2017.1271712</td>\n      <td>Introduction: The Middle East Respiratory Synd...</td>\n      <td>The Middle East respiratory syndrome coronavir...</td>\n      <td>Al-Tawfiq, Jaffar A.; Memish, Ziad A.</td>\n      <td>Update on therapeutic options for Middle East ...</td>\n      <td>Expert Rev Anti Infect Ther</td>\n      <td>174</td>\n      <td>2748</td>\n      <td>996</td>\n    </tr>\n    <tr>\n      <th>1</th>\n      <td>306ef95a3a91e13a93bcc37fb2c509b67c0b5640</td>\n      <td>10.1093/cid/ciaa256</td>\n      <td>Thousands of people in the United States have ...</td>\n      <td>The 2019 novel coronavirus (SARS-CoV-2), ident...</td>\n      <td>Bryson-Cahn, Chloe; Duchin, Jeffrey; Makarewic...</td>\n      <td>A Novel Approach for a Novel Pathogen: using a...</td>\n      <td>Clin Infect Dis</td>\n      <td>50</td>\n      <td>944</td>\n      <td>486</td>\n    </tr>\n    <tr>\n      <th>2</th>\n      <td>ab680d5dbc4f51252da3473109a7885dd6b5eb6f</td>\n      <td>10.1016/b978-0-12-800049-6.00293-6</td>\n      <td>Abstract This article discusses how evolutiona...</td>\n      <td>The evolutionary history of humans is characte...</td>\n      <td>Scarpino, S.V.</td>\n      <td>Evolutionary Medicine IV. Evolution and Emerge...</td>\n      <td>Encyclopedia of Evolutionary Biology</td>\n      <td>72</td>\n      <td>2884</td>\n      <td>1091</td>\n    </tr>\n    <tr>\n      <th>3</th>\n      <td>6599ebbef3d868afac9daa4f80fa075675cf03bc</td>\n      <td>10.1016/j.enpol.2008.08.029</td>\n      <td>Abstract International aviation is growing rap...</td>\n      <td>Sixty years ago, civil aviation was an infant ...</td>\n      <td>Macintosh, Andrew; Wallace, Lailey</td>\n      <td>International aviation emissions to 2025: Can ...</td>\n      <td>Energy Policy</td>\n      <td>137</td>\n      <td>5838</td>\n      <td>1587</td>\n    </tr>\n    <tr>\n      <th>5</th>\n      <td>44290ff75bad8ffaf5d3028420739ce7b08dc2a9</td>\n      <td>10.1093/jac/dkp502</td>\n      <td>OBJECTIVES: Enterovirus 71 (EV71) causes serio...</td>\n      <td>Enteroviruses are members of the family Picorn...</td>\n      <td>Hung, Hui-Chen; Chen, Tzu-Chun; Fang, Ming-Yu;...</td>\n      <td>Inhibition of enterovirus 71 replication and t...</td>\n      <td>J Antimicrob Chemother</td>\n      <td>260</td>\n      <td>3121</td>\n      <td>1064</td>\n    </tr>\n  </tbody>\n</table>\n</div>"
     },
     "metadata": {},
     "execution_count": 48
    }
   ],
   "source": [
    "covid_df['abstract_word_count'] = covid_df['abstract'].apply(lambda x : len(x.strip().split()))\n",
    "covid_df['body_word_count'] = covid_df['body_text'].apply(lambda x : len(x.strip().split()))\n",
    "covid_df['body_unique_count'] = covid_df['body_text'].apply(lambda x : len(set(x.strip().split())))\n"
   ]
  },
  {
   "cell_type": "code",
   "execution_count": null,
   "metadata": {},
   "outputs": [],
   "source": [
    "# visualiation check to see if data is finished being cleaned \n",
    "covid_df.head()\n"
   ]
  },
  {
   "cell_type": "code",
   "execution_count": null,
   "metadata": {},
   "outputs": [],
   "source": []
  }
 ],
 "metadata": {
  "language_info": {
   "name": "python",
   "codemirror_mode": {
    "name": "ipython",
    "version": 3
   },
   "version": "3.7.6-final"
  },
  "orig_nbformat": 2,
  "file_extension": ".py",
  "mimetype": "text/x-python",
  "name": "python",
  "npconvert_exporter": "python",
  "pygments_lexer": "ipython3",
  "version": 3,
  "kernelspec": {
   "name": "python3",
   "display_name": "Python 3"
  }
 },
 "nbformat": 4,
 "nbformat_minor": 2
}