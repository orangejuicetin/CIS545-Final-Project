{
 "cells": [
  {
   "cell_type": "markdown",
   "metadata": {},
   "source": [
    "# CIS545: Final Project - CORD-19 Dataset\n",
    "## Justin Choi\n",
    "## TA: Hoyt Gong\n",
    "\n",
    "Hi there! For this project, I opted to use the COVID-19 research challenge dataset, which they named \"CORD-19\" (I promise, the title wasn't a typo haha), and below you'll see the respective EDA and modeling I've done for the dataset! Hope you enjoy ~\n"
   ]
  },
  {
   "cell_type": "code",
   "execution_count": 30,
   "metadata": {},
   "outputs": [],
   "source": [
    "import pandas as pd \n",
    "import numpy as np \n",
    "import sklearn\n",
    "import seaborn as sns\n",
    "import matplotlib.pyplot as plt\n",
    "plt.style.use('fivethirtyeight')\n",
    "import glob, os\n",
    "import json\n",
    "import nltk\n"
   ]
  },
  {
   "cell_type": "code",
   "execution_count": 54,
   "metadata": {
    "tags": [
     "outputPrepend",
     "outputPrepend",
     "outputPrepend",
     "outputPrepend",
     "outputPrepend",
     "outputPrepend",
     "outputPrepend",
     "outputPrepend",
     "outputPrepend",
     "outputPrepend",
     "outputPrepend"
    ]
   },
   "outputs": [
    {
     "output_type": "stream",
     "name": "stdout",
     "text": "done\n"
    }
   ],
   "source": [
    "metadata_df = pd.read_csv('./CORD-19-research-challenge/metadata.csv')\n",
    "\n",
    "# Import all the json files\n",
    "cord_19_folder = './CORD-19-research-challenge/'\n",
    "list_of_files = []; # only going to take those from pdf_json! not pmc_json\n",
    "for root, dirs, files in os.walk(cord_19_folder):\n",
    "    for name in files:\n",
    "        # if (not(name.endswith('.xml.json')) and name.endswith('.json')):\n",
    "        if (name.endswith('.json')):\n",
    "            full_path = os.path.join(root, name)\n",
    "            list_of_files.append(full_path)\n",
    "sorted(list_of_files)\n",
    "print('done')\n",
    "# ALTERNATE\n",
    "\n",
    "# all_json = glob.glob(f'{cord_19_folder}/**/*.json', recursive=True)\n",
    "# len(all_json)\n"
   ]
  },
  {
   "cell_type": "code",
   "execution_count": 88,
   "metadata": {
    "tags": [
     "outputPrepend"
    ]
   },
   "outputs": [
    {
     "output_type": "error",
     "ename": "KeyError",
     "evalue": "'abstract'",
     "traceback": [
      "\u001b[0;31m---------------------------------------------------------------------------\u001b[0m",
      "\u001b[0;31mKeyError\u001b[0m                                  Traceback (most recent call last)",
      "\u001b[0;32m<ipython-input-88-3805f129787f>\u001b[0m in \u001b[0;36m<module>\u001b[0;34m\u001b[0m\n\u001b[1;32m     17\u001b[0m \u001b[0;34m\u001b[0m\u001b[0m\n\u001b[1;32m     18\u001b[0m \u001b[0mrandom_json\u001b[0m \u001b[0;34m=\u001b[0m \u001b[0mlist_of_files\u001b[0m\u001b[0;34m[\u001b[0m\u001b[0;36m47404\u001b[0m\u001b[0;34m]\u001b[0m\u001b[0;34m\u001b[0m\u001b[0;34m\u001b[0m\u001b[0m\n\u001b[0;32m---> 19\u001b[0;31m \u001b[0msample_article\u001b[0m \u001b[0;34m=\u001b[0m \u001b[0mJsonReader\u001b[0m\u001b[0;34m(\u001b[0m\u001b[0mrandom_json\u001b[0m\u001b[0;34m)\u001b[0m\u001b[0;34m\u001b[0m\u001b[0;34m\u001b[0m\u001b[0m\n\u001b[0m\u001b[1;32m     20\u001b[0m \u001b[0mprint\u001b[0m\u001b[0;34m(\u001b[0m\u001b[0msample_article\u001b[0m\u001b[0;34m)\u001b[0m\u001b[0;34m\u001b[0m\u001b[0;34m\u001b[0m\u001b[0m\n",
      "\u001b[0;32m<ipython-input-88-3805f129787f>\u001b[0m in \u001b[0;36m__init__\u001b[0;34m(self, file_path)\u001b[0m\n\u001b[1;32m      7\u001b[0m             \u001b[0mself\u001b[0m\u001b[0;34m.\u001b[0m\u001b[0mabstract\u001b[0m \u001b[0;34m=\u001b[0m \u001b[0;34m[\u001b[0m\u001b[0;34m]\u001b[0m\u001b[0;34m\u001b[0m\u001b[0;34m\u001b[0m\u001b[0m\n\u001b[1;32m      8\u001b[0m             \u001b[0mself\u001b[0m\u001b[0;34m.\u001b[0m\u001b[0mbody_text\u001b[0m \u001b[0;34m=\u001b[0m \u001b[0;34m[\u001b[0m\u001b[0;34m]\u001b[0m\u001b[0;34m\u001b[0m\u001b[0;34m\u001b[0m\u001b[0m\n\u001b[0;32m----> 9\u001b[0;31m             \u001b[0;32mfor\u001b[0m \u001b[0mentry\u001b[0m \u001b[0;32min\u001b[0m \u001b[0mcontent\u001b[0m\u001b[0;34m[\u001b[0m\u001b[0;34m'abstract'\u001b[0m\u001b[0;34m]\u001b[0m\u001b[0;34m:\u001b[0m\u001b[0;34m\u001b[0m\u001b[0;34m\u001b[0m\u001b[0m\n\u001b[0m\u001b[1;32m     10\u001b[0m                         \u001b[0mself\u001b[0m\u001b[0;34m.\u001b[0m\u001b[0mabstract\u001b[0m\u001b[0;34m.\u001b[0m\u001b[0mappend\u001b[0m\u001b[0;34m(\u001b[0m\u001b[0mentry\u001b[0m\u001b[0;34m[\u001b[0m\u001b[0;34m'abstract'\u001b[0m\u001b[0;34m]\u001b[0m\u001b[0;34m)\u001b[0m\u001b[0;34m\u001b[0m\u001b[0;34m\u001b[0m\u001b[0m\n\u001b[1;32m     11\u001b[0m             \u001b[0;32mfor\u001b[0m \u001b[0mentry\u001b[0m \u001b[0;32min\u001b[0m \u001b[0mcontent\u001b[0m\u001b[0;34m[\u001b[0m\u001b[0;34m'body_text'\u001b[0m\u001b[0;34m]\u001b[0m\u001b[0;34m:\u001b[0m\u001b[0;34m\u001b[0m\u001b[0;34m\u001b[0m\u001b[0m\n",
      "\u001b[0;31mKeyError\u001b[0m: 'abstract'"
     ]
    }
   ],
   "source": [
    "class JsonReader:\n",
    "    def __init__(self, file_path):\n",
    "        with open(file_path) as file: \n",
    "            content = json.load(file)\n",
    "            # start to insert the abstract and body text \n",
    "            self.paper_id = content['paper_id']\n",
    "            self.abstract = []\n",
    "            self.body_text = [] \n",
    "            for entry in content['abstract']:       \n",
    "                self.abstract.append(entry['abstract'])\n",
    "            for entry in content['body_text']:\n",
    "                self.body_text.append(entry['text'])\n",
    "            self.body_text = '\\n'.join(self.body_text)\n",
    "            self.abstract = '\\n'.join(self.abstract)\n",
    "    def __repr__(self):\n",
    "        return f'{self.paper_id}: {self.abstract[:500]}... {self.body_text[:500]}...'\n",
    "\n",
    "random_json = list_of_files[47404]\n",
    "sample_article = JsonReader(random_json)\n",
    "print(sample_article)"
   ]
  },
  {
   "cell_type": "code",
   "execution_count": null,
   "metadata": {},
   "outputs": [],
   "source": [
    "input = {'paper_id': [], 'doi':[], 'abstract': [], 'body_text': [], 'authors': [], 'title': [], 'journal': []}\n",
    "\n",
    "for index, entry in enumerate(list_of_files):\n",
    "    if index % (len(list_of_files) // 10) ==    0:\n",
    "        print(f'Processing {index} of {len(list_of_files)}')\n",
    "    try: \n",
    "        article = JsonReader(entry)\n",
    "    except Exception as e: \n",
    "        continue #means that we don't have a valid file format  \n",
    "    \n",
    "    metadata = metadata_df.loc[metadata_df['sha'] == article.paper_id]\n",
    "    if len(metadata) == 0:\n",
    "        continue: # no such metadata for paper in our csv, skip\n",
    "\n",
    "    input['body_text'].append(article.body_text)\n",
    "    input['paper_id'].append(article.paper_id)\n",
    "    input['abstract'].append(article.abstract)\n",
    "    try: \n",
    "        \n",
    "\n",
    "\n",
    "\n",
    "\n",
    "\n"
   ]
  }
 ],
 "metadata": {
  "language_info": {
   "name": "python",
   "codemirror_mode": {
    "name": "ipython",
    "version": 3
   },
   "version": "3.7.6-final"
  },
  "orig_nbformat": 2,
  "file_extension": ".py",
  "mimetype": "text/x-python",
  "name": "python",
  "npconvert_exporter": "python",
  "pygments_lexer": "ipython3",
  "version": 3,
  "kernelspec": {
   "name": "python3",
   "display_name": "Python 3"
  }
 },
 "nbformat": 4,
 "nbformat_minor": 2
}