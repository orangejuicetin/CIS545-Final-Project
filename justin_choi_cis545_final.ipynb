{
 "cells": [
  {
   "cell_type": "markdown",
   "metadata": {},
   "source": [
    "# CIS545: Final Project - CORD-19 Dataset\n",
    "## Justin Choi\n",
    "## TA: Hoyt Gong\n",
    "\n",
    "Hi there! For this project, I opted to use the COVID-19 research challenge dataset, which they named \"CORD-19\" (I promise, the title wasn't a typo haha), and below you'll see the respective EDA and modeling I've done for the dataset! Hope you enjoy ~\n"
   ]
  },
  {
   "cell_type": "code",
   "execution_count": 30,
   "metadata": {},
   "outputs": [],
   "source": [
    "import pandas as pd \n",
    "import numpy as np \n",
    "import sklearn\n",
    "import seaborn as sns\n",
    "import matplotlib.pyplot as plt\n",
    "plt.style.use('fivethirtyeight')\n",
    "import glob, os\n",
    "import json\n",
    "import nltk\n"
   ]
  },
  {
   "cell_type": "markdown",
   "metadata": {},
   "source": [
    "# The Data \n",
    "Thanks to all the ~ useful ~ skills we've picked up over the course of this semester, we'll start with everyone's favorite tedious, time-consuming task - data cleaning! woo hoooooOOOOooOo who doesn't lüv missing values and weird formatting. \n",
    "\n",
    "Most of the work in this section was basically just finding good ways to extract the text from the json format to put into the dataframe, and then proceeded to clean it using basic `pandas` and the `langdetect` package in order to filter out any articles not in English in order to standardize the data and simplify visualization/processing/modeling later on! "
   ]
  },
  {
   "cell_type": "code",
   "execution_count": 31,
   "metadata": {
    "tags": [
     "outputPrepend",
     "outputPrepend",
     "outputPrepend",
     "outputPrepend",
     "outputPrepend",
     "outputPrepend",
     "outputPrepend",
     "outputPrepend",
     "outputPrepend",
     "outputPrepend",
     "outputPrepend"
    ]
   },
   "outputs": [
    {
     "output_type": "stream",
     "name": "stdout",
     "text": "done\n"
    }
   ],
   "source": [
    "metadata_df = pd.read_csv('./CORD-19-research-challenge/metadata.csv')\n",
    "\n",
    "# Import all the json files\n",
    "cord_19_folder = './CORD-19-research-challenge/'\n",
    "list_of_files = []; # only going to take those from pdf_json! not pmc_json\n",
    "for root, dirs, files in os.walk(cord_19_folder):\n",
    "    for name in files:\n",
    "        if (name.endswith('.json')):\n",
    "            full_path = os.path.join(root, name)\n",
    "            list_of_files.append(full_path)\n",
    "sorted(list_of_files)\n",
    "print('done')\n",
    "\n",
    "# ALTERNATE\n",
    "\n",
    "# all_json = glob.glob(f'{cord_19_folder}/**/*.json', recursive=True)\n",
    "# len(all_json)\n"
   ]
  },
  {
   "cell_type": "code",
   "execution_count": 32,
   "metadata": {
    "tags": [
     "outputPrepend"
    ]
   },
   "outputs": [
    {
     "output_type": "stream",
     "name": "stdout",
     "text": "PMC1403753: Migration, transmigration, [1] return migration, and remigration constitute defining elements of the current and future world order. More than 700 million people (including visitors on business or personal/family trips) traverse nation-state borders annually [2,3] and one million per week move between the global South and the global North [4]. The enormity of contemporary transnational mobility is illustrated by the case of Australia. In the past half century, Australia's \"resident population ha...\n"
    }
   ],
   "source": [
    "class JsonReader:\n",
    "    def __init__(self, file_path):\n",
    "        with open(file_path) as file: \n",
    "            content = json.load(file)\n",
    "            # start to insert body text \n",
    "            self.paper_id = content['paper_id']\n",
    "            self.body_text = [] \n",
    "            for entry in content['body_text']:\n",
    "                self.body_text.append(entry['text'])\n",
    "            self.body_text = '\\n'.join(self.body_text)\n",
    "    def __repr__(self):\n",
    "        return f'{self.paper_id}: {self.body_text[:500]}...'\n",
    "\n",
    "random_json = list_of_files[47404]\n",
    "sample_article = JsonReader(random_json)\n",
    "print(sample_article)"
   ]
  },
  {
   "cell_type": "code",
   "execution_count": 33,
   "metadata": {},
   "outputs": [
    {
     "output_type": "stream",
     "name": "stdout",
     "text": "Processing 0 of 59311\nProcessing 5931 of 59311\nProcessing 11862 of 59311\nProcessing 17793 of 59311\nProcessing 23724 of 59311\nProcessing 29655 of 59311\nProcessing 35586 of 59311\nProcessing 41517 of 59311\nProcessing 47448 of 59311\nProcessing 53379 of 59311\nProcessing 59310 of 59311\n"
    }
   ],
   "source": [
    "input = {'paper_id': [], 'doi':[],  'title': [], 'abstract': [], 'body_text': [], 'authors': [], 'journal': []}\n",
    "\n",
    "for index, entry in enumerate(list_of_files):\n",
    "    if index % (len(list_of_files) // 10) ==    0:\n",
    "        print(f'Processing {index} of {len(list_of_files)}')\n",
    "    try: \n",
    "        article = JsonReader(entry)\n",
    "    except Exception as e: \n",
    "        continue #means that we don't have a valid file format  \n",
    "    \n",
    "    metadata = metadata_df.loc[metadata_df['sha'] == article.paper_id]\n",
    "    if len(metadata) == 0:\n",
    "        continue # no such metadata for paper in our csv, skip\n",
    "\n",
    "    input['body_text'].append(article.body_text)\n",
    "    input['paper_id'].append(article.paper_id)\n",
    "\n",
    "    # add in metadata \n",
    "    title = metadata['title'].values[0] \n",
    "    doi = metadata['doi'].values[0] \n",
    "    abstract = metadata['abstract'].values[0] \n",
    "    authors = metadata['authors'].values[0] \n",
    "    journal = metadata['journal'].values[0] \n",
    "\n",
    "    input['title'].append(title)\n",
    "    input['doi'].append(doi)\n",
    "    input['abstract'].append(abstract)\n",
    "    input['authors'].append(authors)\n",
    "    input['journal'].append(journal)\n",
    "\n"
   ]
  },
  {
   "cell_type": "code",
   "execution_count": 85,
   "metadata": {},
   "outputs": [
    {
     "output_type": "stream",
     "name": "stdout",
     "text": "finished creating dataframe from input dictionary\nnumber of rows: 36009\n<class 'pandas.core.frame.DataFrame'>\nRangeIndex: 36009 entries, 0 to 36008\nData columns (total 7 columns):\n #   Column     Non-Null Count  Dtype \n---  ------     --------------  ----- \n 0   paper_id   36009 non-null  object\n 1   doi        35672 non-null  object\n 2   title      35973 non-null  object\n 3   abstract   31675 non-null  object\n 4   body_text  36009 non-null  object\n 5   authors    35413 non-null  object\n 6   journal    34277 non-null  object\ndtypes: object(7)\nmemory usage: 1.9+ MB\n"
    }
   ],
   "source": [
    "covid_df = pd.DataFrame(input, columns=['paper_id', 'doi', 'title', 'abstract', 'body_text', 'authors', 'journal'])\n",
    "print('finished creating dataframe from input dictionary')\n",
    "rows, cols = covid_df.shape\n",
    "print(f'number of rows: {rows}')\n",
    "covid_df.info()"
   ]
  },
  {
   "cell_type": "code",
   "execution_count": 86,
   "metadata": {},
   "outputs": [
    {
     "output_type": "stream",
     "name": "stdout",
     "text": "finished dropping articles with null abstracts/body text/titles\nnumber of rows: 29600\n"
    }
   ],
   "source": [
    "covid_df.dropna(inplace=True)\n",
    "print('finished dropping articles with null abstracts/body text/titles')\n",
    "rows, cols = covid_df.shape\n",
    "print(f'number of rows: {rows}')"
   ]
  },
  {
   "cell_type": "code",
   "execution_count": 87,
   "metadata": {},
   "outputs": [],
   "source": [
    "covid_df['abstract_word_count'] = covid_df['abstract'].apply(lambda x : len(x.strip().split()))\n",
    "covid_df['body_word_count'] = covid_df['body_text'].apply(lambda x : len(x.strip().split()))\n",
    "covid_df['body_unique_count'] = covid_df['body_text'].apply(lambda x : len(set(x.strip().split())))\n"
   ]
  },
  {
   "cell_type": "code",
   "execution_count": 88,
   "metadata": {},
   "outputs": [
    {
     "output_type": "execute_result",
     "data": {
      "text/plain": "                                   paper_id  \\\n0  4ed70c27f14b7f9e6219fe605eae2b21a229f23c   \n1  306ef95a3a91e13a93bcc37fb2c509b67c0b5640   \n2  ab680d5dbc4f51252da3473109a7885dd6b5eb6f   \n3  6599ebbef3d868afac9daa4f80fa075675cf03bc   \n5  44290ff75bad8ffaf5d3028420739ce7b08dc2a9   \n\n                                  doi  \\\n0       10.1080/14787210.2017.1271712   \n1                 10.1093/cid/ciaa256   \n2  10.1016/b978-0-12-800049-6.00293-6   \n3         10.1016/j.enpol.2008.08.029   \n5                  10.1093/jac/dkp502   \n\n                                               title  \\\n0  Update on therapeutic options for Middle East ...   \n1  A Novel Approach for a Novel Pathogen: using a...   \n2  Evolutionary Medicine IV. Evolution and Emerge...   \n3  International aviation emissions to 2025: Can ...   \n5  Inhibition of enterovirus 71 replication and t...   \n\n                                            abstract  \\\n0  Introduction: The Middle East Respiratory Synd...   \n1  Thousands of people in the United States have ...   \n2  Abstract This article discusses how evolutiona...   \n3  Abstract International aviation is growing rap...   \n5  OBJECTIVES: Enterovirus 71 (EV71) causes serio...   \n\n                                           body_text  \\\n0  The Middle East respiratory syndrome coronavir...   \n1  The 2019 novel coronavirus (SARS-CoV-2), ident...   \n2  The evolutionary history of humans is characte...   \n3  Sixty years ago, civil aviation was an infant ...   \n5  Enteroviruses are members of the family Picorn...   \n\n                                             authors  \\\n0              Al-Tawfiq, Jaffar A.; Memish, Ziad A.   \n1  Bryson-Cahn, Chloe; Duchin, Jeffrey; Makarewic...   \n2                                     Scarpino, S.V.   \n3                 Macintosh, Andrew; Wallace, Lailey   \n5  Hung, Hui-Chen; Chen, Tzu-Chun; Fang, Ming-Yu;...   \n\n                                journal  abstract_word_count  body_word_count  \\\n0           Expert Rev Anti Infect Ther                  174             2748   \n1                       Clin Infect Dis                   50              944   \n2  Encyclopedia of Evolutionary Biology                   72             2884   \n3                         Energy Policy                  137             5838   \n5                J Antimicrob Chemother                  260             3121   \n\n   body_unique_count  \n0                996  \n1                486  \n2               1091  \n3               1587  \n5               1064  ",
      "text/html": "<div>\n<style scoped>\n    .dataframe tbody tr th:only-of-type {\n        vertical-align: middle;\n    }\n\n    .dataframe tbody tr th {\n        vertical-align: top;\n    }\n\n    .dataframe thead th {\n        text-align: right;\n    }\n</style>\n<table border=\"1\" class=\"dataframe\">\n  <thead>\n    <tr style=\"text-align: right;\">\n      <th></th>\n      <th>paper_id</th>\n      <th>doi</th>\n      <th>title</th>\n      <th>abstract</th>\n      <th>body_text</th>\n      <th>authors</th>\n      <th>journal</th>\n      <th>abstract_word_count</th>\n      <th>body_word_count</th>\n      <th>body_unique_count</th>\n    </tr>\n  </thead>\n  <tbody>\n    <tr>\n      <th>0</th>\n      <td>4ed70c27f14b7f9e6219fe605eae2b21a229f23c</td>\n      <td>10.1080/14787210.2017.1271712</td>\n      <td>Update on therapeutic options for Middle East ...</td>\n      <td>Introduction: The Middle East Respiratory Synd...</td>\n      <td>The Middle East respiratory syndrome coronavir...</td>\n      <td>Al-Tawfiq, Jaffar A.; Memish, Ziad A.</td>\n      <td>Expert Rev Anti Infect Ther</td>\n      <td>174</td>\n      <td>2748</td>\n      <td>996</td>\n    </tr>\n    <tr>\n      <th>1</th>\n      <td>306ef95a3a91e13a93bcc37fb2c509b67c0b5640</td>\n      <td>10.1093/cid/ciaa256</td>\n      <td>A Novel Approach for a Novel Pathogen: using a...</td>\n      <td>Thousands of people in the United States have ...</td>\n      <td>The 2019 novel coronavirus (SARS-CoV-2), ident...</td>\n      <td>Bryson-Cahn, Chloe; Duchin, Jeffrey; Makarewic...</td>\n      <td>Clin Infect Dis</td>\n      <td>50</td>\n      <td>944</td>\n      <td>486</td>\n    </tr>\n    <tr>\n      <th>2</th>\n      <td>ab680d5dbc4f51252da3473109a7885dd6b5eb6f</td>\n      <td>10.1016/b978-0-12-800049-6.00293-6</td>\n      <td>Evolutionary Medicine IV. Evolution and Emerge...</td>\n      <td>Abstract This article discusses how evolutiona...</td>\n      <td>The evolutionary history of humans is characte...</td>\n      <td>Scarpino, S.V.</td>\n      <td>Encyclopedia of Evolutionary Biology</td>\n      <td>72</td>\n      <td>2884</td>\n      <td>1091</td>\n    </tr>\n    <tr>\n      <th>3</th>\n      <td>6599ebbef3d868afac9daa4f80fa075675cf03bc</td>\n      <td>10.1016/j.enpol.2008.08.029</td>\n      <td>International aviation emissions to 2025: Can ...</td>\n      <td>Abstract International aviation is growing rap...</td>\n      <td>Sixty years ago, civil aviation was an infant ...</td>\n      <td>Macintosh, Andrew; Wallace, Lailey</td>\n      <td>Energy Policy</td>\n      <td>137</td>\n      <td>5838</td>\n      <td>1587</td>\n    </tr>\n    <tr>\n      <th>5</th>\n      <td>44290ff75bad8ffaf5d3028420739ce7b08dc2a9</td>\n      <td>10.1093/jac/dkp502</td>\n      <td>Inhibition of enterovirus 71 replication and t...</td>\n      <td>OBJECTIVES: Enterovirus 71 (EV71) causes serio...</td>\n      <td>Enteroviruses are members of the family Picorn...</td>\n      <td>Hung, Hui-Chen; Chen, Tzu-Chun; Fang, Ming-Yu;...</td>\n      <td>J Antimicrob Chemother</td>\n      <td>260</td>\n      <td>3121</td>\n      <td>1064</td>\n    </tr>\n  </tbody>\n</table>\n</div>"
     },
     "metadata": {},
     "execution_count": 88
    }
   ],
   "source": [
    "# visualiation check to see if data is finished being cleaned \n",
    "covid_df.head()\n"
   ]
  },
  {
   "cell_type": "code",
   "execution_count": 89,
   "metadata": {},
   "outputs": [
    {
     "output_type": "stream",
     "name": "stdout",
     "text": "<class 'pandas.core.frame.DataFrame'>\nInt64Index: 29600 entries, 0 to 36008\nData columns (total 10 columns):\n #   Column               Non-Null Count  Dtype \n---  ------               --------------  ----- \n 0   paper_id             29600 non-null  object\n 1   doi                  29600 non-null  object\n 2   title                29600 non-null  object\n 3   abstract             29600 non-null  object\n 4   body_text            29600 non-null  object\n 5   authors              29600 non-null  object\n 6   journal              29600 non-null  object\n 7   abstract_word_count  29600 non-null  int64 \n 8   body_word_count      29600 non-null  int64 \n 9   body_unique_count    29600 non-null  int64 \ndtypes: int64(3), object(7)\nmemory usage: 2.5+ MB\n"
    }
   ],
   "source": [
    "covid_df.info()"
   ]
  },
  {
   "cell_type": "code",
   "execution_count": 91,
   "metadata": {},
   "outputs": [
    {
     "output_type": "execute_result",
     "data": {
      "text/plain": "count       29600\nunique      29543\ntop       Unknown\nfreq           21\nName: abstract, dtype: object"
     },
     "metadata": {},
     "execution_count": 91
    }
   ],
   "source": [
    "#check to see if there are duplicates\n",
    "covid_df['abstract'].describe()"
   ]
  },
  {
   "cell_type": "code",
   "execution_count": 92,
   "metadata": {},
   "outputs": [],
   "source": [
    "covid_df.drop_duplicates(subset=['abstract', 'body_text'], inplace=True)"
   ]
  },
  {
   "cell_type": "code",
   "execution_count": 93,
   "metadata": {},
   "outputs": [
    {
     "output_type": "execute_result",
     "data": {
      "text/plain": "count       29597\nunique      29543\ntop       Unknown\nfreq           21\nName: abstract, dtype: object"
     },
     "metadata": {},
     "execution_count": 93
    }
   ],
   "source": [
    "covid_df['abstract'].describe()"
   ]
  },
  {
   "cell_type": "code",
   "execution_count": 94,
   "metadata": {},
   "outputs": [
    {
     "output_type": "execute_result",
     "data": {
      "text/plain": "count                                                 29597\nunique                                                29591\ntop       The importance of foodborne transmission of vi...\nfreq                                                      2\nName: body_text, dtype: object"
     },
     "metadata": {},
     "execution_count": 94
    }
   ],
   "source": [
    "covid_df['body_text'].describe()"
   ]
  },
  {
   "cell_type": "code",
   "execution_count": 131,
   "metadata": {},
   "outputs": [
    {
     "output_type": "execute_result",
     "data": {
      "text/plain": "       abstract_word_count  body_word_count  body_unique_count\ncount         29597.000000     29597.000000       29597.000000\nmean            194.711356      4560.325878        1425.199007\nstd             151.302225      3528.817632         748.579044\nmin               1.000000         2.000000           2.000000\n25%             140.000000      2705.000000         989.000000\n50%             191.000000      3847.000000        1288.000000\n75%             243.000000      5533.000000        1695.000000\nmax           18000.000000    171948.000000       25156.000000",
      "text/html": "<div>\n<style scoped>\n    .dataframe tbody tr th:only-of-type {\n        vertical-align: middle;\n    }\n\n    .dataframe tbody tr th {\n        vertical-align: top;\n    }\n\n    .dataframe thead th {\n        text-align: right;\n    }\n</style>\n<table border=\"1\" class=\"dataframe\">\n  <thead>\n    <tr style=\"text-align: right;\">\n      <th></th>\n      <th>abstract_word_count</th>\n      <th>body_word_count</th>\n      <th>body_unique_count</th>\n    </tr>\n  </thead>\n  <tbody>\n    <tr>\n      <th>count</th>\n      <td>29597.000000</td>\n      <td>29597.000000</td>\n      <td>29597.000000</td>\n    </tr>\n    <tr>\n      <th>mean</th>\n      <td>194.711356</td>\n      <td>4560.325878</td>\n      <td>1425.199007</td>\n    </tr>\n    <tr>\n      <th>std</th>\n      <td>151.302225</td>\n      <td>3528.817632</td>\n      <td>748.579044</td>\n    </tr>\n    <tr>\n      <th>min</th>\n      <td>1.000000</td>\n      <td>2.000000</td>\n      <td>2.000000</td>\n    </tr>\n    <tr>\n      <th>25%</th>\n      <td>140.000000</td>\n      <td>2705.000000</td>\n      <td>989.000000</td>\n    </tr>\n    <tr>\n      <th>50%</th>\n      <td>191.000000</td>\n      <td>3847.000000</td>\n      <td>1288.000000</td>\n    </tr>\n    <tr>\n      <th>75%</th>\n      <td>243.000000</td>\n      <td>5533.000000</td>\n      <td>1695.000000</td>\n    </tr>\n    <tr>\n      <th>max</th>\n      <td>18000.000000</td>\n      <td>171948.000000</td>\n      <td>25156.000000</td>\n    </tr>\n  </tbody>\n</table>\n</div>"
     },
     "metadata": {},
     "execution_count": 131
    }
   ],
   "source": [
    "covid_df.describe()"
   ]
  },
  {
   "cell_type": "code",
   "execution_count": 168,
   "metadata": {},
   "outputs": [
    {
     "output_type": "stream",
     "name": "stderr",
     "text": "100%|██████████| 29597/29597 [02:19<00:00, 212.16it/s]\n"
    }
   ],
   "source": [
    "from langdetect import detect\n",
    "from tqdm import tqdm\n",
    "\n",
    "languages = [] # make list that you can port directly into covid_df as column\n",
    "\n",
    "for i in tqdm(range(len(covid_df))):\n",
    "    row_text = covid_df.iloc[i]['body_text'].split(\" \") \n",
    "    lang = 'en' # set default lang to be english \n",
    "\n",
    "    # try to just use the intro 25 words to detect language\n",
    "    try:\n",
    "        if (len(row_text)) > 25: \n",
    "            lang = detect(\" \".join(row_text[:25]))\n",
    "        elif(len(row_text)) > 0:\n",
    "            lang = detect(\" \".join(row_text))\n",
    "    except Exception as e: # if body doesn't work, let's try abstract\n",
    "        try: \n",
    "            lang = detect(covid_df.iloc(i)['abstract'])\n",
    "        except Exception as e:\n",
    "            lang = 'dunno'\n",
    "            continue\n",
    "    finally:\n",
    "        languages.append(lang)\n",
    "        "
   ]
  },
  {
   "cell_type": "code",
   "execution_count": 201,
   "metadata": {},
   "outputs": [
    {
     "output_type": "stream",
     "name": "stdout",
     "text": "{'zh-cn': 1, 'de': 69, 'dunno': 1, 'fr': 248, 'es': 165, 'ca': 5, 'tl': 2, 'da': 1, 'sv': 1, 'pt': 17, 'en': 29029, 'pl': 2, 'ro': 2, 'it': 16, 'id': 1, 'nl': 37}\n"
    }
   ],
   "source": [
    "lang_dict = {}\n",
    "for language in set(languages):\n",
    "    lang_dict[language] = languages.count(language)\n",
    "\n",
    "print(lang_dict)"
   ]
  },
  {
   "cell_type": "code",
   "execution_count": 202,
   "metadata": {},
   "outputs": [
    {
     "output_type": "error",
     "ename": "ValueError",
     "evalue": "Length of values does not match length of index",
     "traceback": [
      "\u001b[0;31m---------------------------------------------------------------------------\u001b[0m",
      "\u001b[0;31mValueError\u001b[0m                                Traceback (most recent call last)",
      "\u001b[0;32m<ipython-input-202-41a600337d39>\u001b[0m in \u001b[0;36m<module>\u001b[0;34m\u001b[0m\n\u001b[1;32m      1\u001b[0m \u001b[0mlang_array\u001b[0m \u001b[0;34m=\u001b[0m \u001b[0mnp\u001b[0m\u001b[0;34m.\u001b[0m\u001b[0masarray\u001b[0m\u001b[0;34m(\u001b[0m\u001b[0mlanguages\u001b[0m\u001b[0;34m)\u001b[0m\u001b[0;34m\u001b[0m\u001b[0;34m\u001b[0m\u001b[0m\n\u001b[0;32m----> 2\u001b[0;31m \u001b[0mcovid_df\u001b[0m\u001b[0;34m[\u001b[0m\u001b[0;34m'language'\u001b[0m\u001b[0;34m]\u001b[0m \u001b[0;34m=\u001b[0m \u001b[0mlang_array\u001b[0m\u001b[0;34m\u001b[0m\u001b[0;34m\u001b[0m\u001b[0m\n\u001b[0m",
      "\u001b[0;32m~/anaconda3/lib/python3.7/site-packages/pandas/core/frame.py\u001b[0m in \u001b[0;36m__setitem__\u001b[0;34m(self, key, value)\u001b[0m\n\u001b[1;32m   2936\u001b[0m         \u001b[0;32melse\u001b[0m\u001b[0;34m:\u001b[0m\u001b[0;34m\u001b[0m\u001b[0;34m\u001b[0m\u001b[0m\n\u001b[1;32m   2937\u001b[0m             \u001b[0;31m# set column\u001b[0m\u001b[0;34m\u001b[0m\u001b[0;34m\u001b[0m\u001b[0;34m\u001b[0m\u001b[0m\n\u001b[0;32m-> 2938\u001b[0;31m             \u001b[0mself\u001b[0m\u001b[0;34m.\u001b[0m\u001b[0m_set_item\u001b[0m\u001b[0;34m(\u001b[0m\u001b[0mkey\u001b[0m\u001b[0;34m,\u001b[0m \u001b[0mvalue\u001b[0m\u001b[0;34m)\u001b[0m\u001b[0;34m\u001b[0m\u001b[0;34m\u001b[0m\u001b[0m\n\u001b[0m\u001b[1;32m   2939\u001b[0m \u001b[0;34m\u001b[0m\u001b[0m\n\u001b[1;32m   2940\u001b[0m     \u001b[0;32mdef\u001b[0m \u001b[0m_setitem_slice\u001b[0m\u001b[0;34m(\u001b[0m\u001b[0mself\u001b[0m\u001b[0;34m,\u001b[0m \u001b[0mkey\u001b[0m\u001b[0;34m,\u001b[0m \u001b[0mvalue\u001b[0m\u001b[0;34m)\u001b[0m\u001b[0;34m:\u001b[0m\u001b[0;34m\u001b[0m\u001b[0;34m\u001b[0m\u001b[0m\n",
      "\u001b[0;32m~/anaconda3/lib/python3.7/site-packages/pandas/core/frame.py\u001b[0m in \u001b[0;36m_set_item\u001b[0;34m(self, key, value)\u001b[0m\n\u001b[1;32m   2998\u001b[0m \u001b[0;34m\u001b[0m\u001b[0m\n\u001b[1;32m   2999\u001b[0m         \u001b[0mself\u001b[0m\u001b[0;34m.\u001b[0m\u001b[0m_ensure_valid_index\u001b[0m\u001b[0;34m(\u001b[0m\u001b[0mvalue\u001b[0m\u001b[0;34m)\u001b[0m\u001b[0;34m\u001b[0m\u001b[0;34m\u001b[0m\u001b[0m\n\u001b[0;32m-> 3000\u001b[0;31m         \u001b[0mvalue\u001b[0m \u001b[0;34m=\u001b[0m \u001b[0mself\u001b[0m\u001b[0;34m.\u001b[0m\u001b[0m_sanitize_column\u001b[0m\u001b[0;34m(\u001b[0m\u001b[0mkey\u001b[0m\u001b[0;34m,\u001b[0m \u001b[0mvalue\u001b[0m\u001b[0;34m)\u001b[0m\u001b[0;34m\u001b[0m\u001b[0;34m\u001b[0m\u001b[0m\n\u001b[0m\u001b[1;32m   3001\u001b[0m         \u001b[0mNDFrame\u001b[0m\u001b[0;34m.\u001b[0m\u001b[0m_set_item\u001b[0m\u001b[0;34m(\u001b[0m\u001b[0mself\u001b[0m\u001b[0;34m,\u001b[0m \u001b[0mkey\u001b[0m\u001b[0;34m,\u001b[0m \u001b[0mvalue\u001b[0m\u001b[0;34m)\u001b[0m\u001b[0;34m\u001b[0m\u001b[0;34m\u001b[0m\u001b[0m\n\u001b[1;32m   3002\u001b[0m \u001b[0;34m\u001b[0m\u001b[0m\n",
      "\u001b[0;32m~/anaconda3/lib/python3.7/site-packages/pandas/core/frame.py\u001b[0m in \u001b[0;36m_sanitize_column\u001b[0;34m(self, key, value, broadcast)\u001b[0m\n\u001b[1;32m   3634\u001b[0m \u001b[0;34m\u001b[0m\u001b[0m\n\u001b[1;32m   3635\u001b[0m             \u001b[0;31m# turn me into an ndarray\u001b[0m\u001b[0;34m\u001b[0m\u001b[0;34m\u001b[0m\u001b[0;34m\u001b[0m\u001b[0m\n\u001b[0;32m-> 3636\u001b[0;31m             \u001b[0mvalue\u001b[0m \u001b[0;34m=\u001b[0m \u001b[0msanitize_index\u001b[0m\u001b[0;34m(\u001b[0m\u001b[0mvalue\u001b[0m\u001b[0;34m,\u001b[0m \u001b[0mself\u001b[0m\u001b[0;34m.\u001b[0m\u001b[0mindex\u001b[0m\u001b[0;34m,\u001b[0m \u001b[0mcopy\u001b[0m\u001b[0;34m=\u001b[0m\u001b[0;32mFalse\u001b[0m\u001b[0;34m)\u001b[0m\u001b[0;34m\u001b[0m\u001b[0;34m\u001b[0m\u001b[0m\n\u001b[0m\u001b[1;32m   3637\u001b[0m             \u001b[0;32mif\u001b[0m \u001b[0;32mnot\u001b[0m \u001b[0misinstance\u001b[0m\u001b[0;34m(\u001b[0m\u001b[0mvalue\u001b[0m\u001b[0;34m,\u001b[0m \u001b[0;34m(\u001b[0m\u001b[0mnp\u001b[0m\u001b[0;34m.\u001b[0m\u001b[0mndarray\u001b[0m\u001b[0;34m,\u001b[0m \u001b[0mIndex\u001b[0m\u001b[0;34m)\u001b[0m\u001b[0;34m)\u001b[0m\u001b[0;34m:\u001b[0m\u001b[0;34m\u001b[0m\u001b[0;34m\u001b[0m\u001b[0m\n\u001b[1;32m   3638\u001b[0m                 \u001b[0;32mif\u001b[0m \u001b[0misinstance\u001b[0m\u001b[0;34m(\u001b[0m\u001b[0mvalue\u001b[0m\u001b[0;34m,\u001b[0m \u001b[0mlist\u001b[0m\u001b[0;34m)\u001b[0m \u001b[0;32mand\u001b[0m \u001b[0mlen\u001b[0m\u001b[0;34m(\u001b[0m\u001b[0mvalue\u001b[0m\u001b[0;34m)\u001b[0m \u001b[0;34m>\u001b[0m \u001b[0;36m0\u001b[0m\u001b[0;34m:\u001b[0m\u001b[0;34m\u001b[0m\u001b[0;34m\u001b[0m\u001b[0m\n",
      "\u001b[0;32m~/anaconda3/lib/python3.7/site-packages/pandas/core/internals/construction.py\u001b[0m in \u001b[0;36msanitize_index\u001b[0;34m(data, index, copy)\u001b[0m\n\u001b[1;32m    609\u001b[0m \u001b[0;34m\u001b[0m\u001b[0m\n\u001b[1;32m    610\u001b[0m     \u001b[0;32mif\u001b[0m \u001b[0mlen\u001b[0m\u001b[0;34m(\u001b[0m\u001b[0mdata\u001b[0m\u001b[0;34m)\u001b[0m \u001b[0;34m!=\u001b[0m \u001b[0mlen\u001b[0m\u001b[0;34m(\u001b[0m\u001b[0mindex\u001b[0m\u001b[0;34m)\u001b[0m\u001b[0;34m:\u001b[0m\u001b[0;34m\u001b[0m\u001b[0;34m\u001b[0m\u001b[0m\n\u001b[0;32m--> 611\u001b[0;31m         \u001b[0;32mraise\u001b[0m \u001b[0mValueError\u001b[0m\u001b[0;34m(\u001b[0m\u001b[0;34m\"Length of values does not match length of index\"\u001b[0m\u001b[0;34m)\u001b[0m\u001b[0;34m\u001b[0m\u001b[0;34m\u001b[0m\u001b[0m\n\u001b[0m\u001b[1;32m    612\u001b[0m \u001b[0;34m\u001b[0m\u001b[0m\n\u001b[1;32m    613\u001b[0m     \u001b[0;32mif\u001b[0m \u001b[0misinstance\u001b[0m\u001b[0;34m(\u001b[0m\u001b[0mdata\u001b[0m\u001b[0;34m,\u001b[0m \u001b[0mABCIndexClass\u001b[0m\u001b[0;34m)\u001b[0m \u001b[0;32mand\u001b[0m \u001b[0;32mnot\u001b[0m \u001b[0mcopy\u001b[0m\u001b[0;34m:\u001b[0m\u001b[0;34m\u001b[0m\u001b[0;34m\u001b[0m\u001b[0m\n",
      "\u001b[0;31mValueError\u001b[0m: Length of values does not match length of index"
     ]
    }
   ],
   "source": [
    "lang_array = np.asarray(languages)\n",
    "covid_df['language'] = lang_array"
   ]
  },
  {
   "cell_type": "code",
   "execution_count": 203,
   "metadata": {},
   "outputs": [
    {
     "output_type": "execute_result",
     "data": {
      "text/plain": "                                   paper_id  \\\n0  4ed70c27f14b7f9e6219fe605eae2b21a229f23c   \n1  306ef95a3a91e13a93bcc37fb2c509b67c0b5640   \n2  ab680d5dbc4f51252da3473109a7885dd6b5eb6f   \n3  6599ebbef3d868afac9daa4f80fa075675cf03bc   \n5  44290ff75bad8ffaf5d3028420739ce7b08dc2a9   \n\n                                  doi  \\\n0       10.1080/14787210.2017.1271712   \n1                 10.1093/cid/ciaa256   \n2  10.1016/b978-0-12-800049-6.00293-6   \n3         10.1016/j.enpol.2008.08.029   \n5                  10.1093/jac/dkp502   \n\n                                               title  \\\n0  Update on therapeutic options for Middle East ...   \n1  A Novel Approach for a Novel Pathogen: using a...   \n2  Evolutionary Medicine IV. Evolution and Emerge...   \n3  International aviation emissions to 2025: Can ...   \n5  Inhibition of enterovirus 71 replication and t...   \n\n                                            abstract  \\\n0  Introduction: The Middle East Respiratory Synd...   \n1  Thousands of people in the United States have ...   \n2  Abstract This article discusses how evolutiona...   \n3  Abstract International aviation is growing rap...   \n5  OBJECTIVES: Enterovirus 71 (EV71) causes serio...   \n\n                                           body_text  \\\n0  The Middle East respiratory syndrome coronavir...   \n1  The 2019 novel coronavirus (SARS-CoV-2), ident...   \n2  The evolutionary history of humans is characte...   \n3  Sixty years ago, civil aviation was an infant ...   \n5  Enteroviruses are members of the family Picorn...   \n\n                                             authors  \\\n0              Al-Tawfiq, Jaffar A.; Memish, Ziad A.   \n1  Bryson-Cahn, Chloe; Duchin, Jeffrey; Makarewic...   \n2                                     Scarpino, S.V.   \n3                 Macintosh, Andrew; Wallace, Lailey   \n5  Hung, Hui-Chen; Chen, Tzu-Chun; Fang, Ming-Yu;...   \n\n                                journal  abstract_word_count  body_word_count  \\\n0           Expert Rev Anti Infect Ther                  174             2748   \n1                       Clin Infect Dis                   50              944   \n2  Encyclopedia of Evolutionary Biology                   72             2884   \n3                         Energy Policy                  137             5838   \n5                J Antimicrob Chemother                  260             3121   \n\n   body_unique_count language  \n0                996       en  \n1                486       en  \n2               1091       en  \n3               1587       en  \n5               1064       en  ",
      "text/html": "<div>\n<style scoped>\n    .dataframe tbody tr th:only-of-type {\n        vertical-align: middle;\n    }\n\n    .dataframe tbody tr th {\n        vertical-align: top;\n    }\n\n    .dataframe thead th {\n        text-align: right;\n    }\n</style>\n<table border=\"1\" class=\"dataframe\">\n  <thead>\n    <tr style=\"text-align: right;\">\n      <th></th>\n      <th>paper_id</th>\n      <th>doi</th>\n      <th>title</th>\n      <th>abstract</th>\n      <th>body_text</th>\n      <th>authors</th>\n      <th>journal</th>\n      <th>abstract_word_count</th>\n      <th>body_word_count</th>\n      <th>body_unique_count</th>\n      <th>language</th>\n    </tr>\n  </thead>\n  <tbody>\n    <tr>\n      <th>0</th>\n      <td>4ed70c27f14b7f9e6219fe605eae2b21a229f23c</td>\n      <td>10.1080/14787210.2017.1271712</td>\n      <td>Update on therapeutic options for Middle East ...</td>\n      <td>Introduction: The Middle East Respiratory Synd...</td>\n      <td>The Middle East respiratory syndrome coronavir...</td>\n      <td>Al-Tawfiq, Jaffar A.; Memish, Ziad A.</td>\n      <td>Expert Rev Anti Infect Ther</td>\n      <td>174</td>\n      <td>2748</td>\n      <td>996</td>\n      <td>en</td>\n    </tr>\n    <tr>\n      <th>1</th>\n      <td>306ef95a3a91e13a93bcc37fb2c509b67c0b5640</td>\n      <td>10.1093/cid/ciaa256</td>\n      <td>A Novel Approach for a Novel Pathogen: using a...</td>\n      <td>Thousands of people in the United States have ...</td>\n      <td>The 2019 novel coronavirus (SARS-CoV-2), ident...</td>\n      <td>Bryson-Cahn, Chloe; Duchin, Jeffrey; Makarewic...</td>\n      <td>Clin Infect Dis</td>\n      <td>50</td>\n      <td>944</td>\n      <td>486</td>\n      <td>en</td>\n    </tr>\n    <tr>\n      <th>2</th>\n      <td>ab680d5dbc4f51252da3473109a7885dd6b5eb6f</td>\n      <td>10.1016/b978-0-12-800049-6.00293-6</td>\n      <td>Evolutionary Medicine IV. Evolution and Emerge...</td>\n      <td>Abstract This article discusses how evolutiona...</td>\n      <td>The evolutionary history of humans is characte...</td>\n      <td>Scarpino, S.V.</td>\n      <td>Encyclopedia of Evolutionary Biology</td>\n      <td>72</td>\n      <td>2884</td>\n      <td>1091</td>\n      <td>en</td>\n    </tr>\n    <tr>\n      <th>3</th>\n      <td>6599ebbef3d868afac9daa4f80fa075675cf03bc</td>\n      <td>10.1016/j.enpol.2008.08.029</td>\n      <td>International aviation emissions to 2025: Can ...</td>\n      <td>Abstract International aviation is growing rap...</td>\n      <td>Sixty years ago, civil aviation was an infant ...</td>\n      <td>Macintosh, Andrew; Wallace, Lailey</td>\n      <td>Energy Policy</td>\n      <td>137</td>\n      <td>5838</td>\n      <td>1587</td>\n      <td>en</td>\n    </tr>\n    <tr>\n      <th>5</th>\n      <td>44290ff75bad8ffaf5d3028420739ce7b08dc2a9</td>\n      <td>10.1093/jac/dkp502</td>\n      <td>Inhibition of enterovirus 71 replication and t...</td>\n      <td>OBJECTIVES: Enterovirus 71 (EV71) causes serio...</td>\n      <td>Enteroviruses are members of the family Picorn...</td>\n      <td>Hung, Hui-Chen; Chen, Tzu-Chun; Fang, Ming-Yu;...</td>\n      <td>J Antimicrob Chemother</td>\n      <td>260</td>\n      <td>3121</td>\n      <td>1064</td>\n      <td>en</td>\n    </tr>\n  </tbody>\n</table>\n</div>"
     },
     "metadata": {},
     "execution_count": 203
    }
   ],
   "source": [
    "covid_df.head()"
   ]
  },
  {
   "cell_type": "code",
   "execution_count": 233,
   "metadata": {},
   "outputs": [
    {
     "output_type": "execute_result",
     "data": {
      "text/plain": "                                   paper_id  \\\n0  4ed70c27f14b7f9e6219fe605eae2b21a229f23c   \n1  306ef95a3a91e13a93bcc37fb2c509b67c0b5640   \n2  ab680d5dbc4f51252da3473109a7885dd6b5eb6f   \n3  6599ebbef3d868afac9daa4f80fa075675cf03bc   \n5  44290ff75bad8ffaf5d3028420739ce7b08dc2a9   \n\n                                  doi  \\\n0       10.1080/14787210.2017.1271712   \n1                 10.1093/cid/ciaa256   \n2  10.1016/b978-0-12-800049-6.00293-6   \n3         10.1016/j.enpol.2008.08.029   \n5                  10.1093/jac/dkp502   \n\n                                               title  \\\n0  Update on therapeutic options for Middle East ...   \n1  A Novel Approach for a Novel Pathogen: using a...   \n2  Evolutionary Medicine IV. Evolution and Emerge...   \n3  International aviation emissions to 2025: Can ...   \n5  Inhibition of enterovirus 71 replication and t...   \n\n                                            abstract  \\\n0  Introduction: The Middle East Respiratory Synd...   \n1  Thousands of people in the United States have ...   \n2  Abstract This article discusses how evolutiona...   \n3  Abstract International aviation is growing rap...   \n5  OBJECTIVES: Enterovirus 71 (EV71) causes serio...   \n\n                                           body_text  \\\n0  The Middle East respiratory syndrome coronavir...   \n1  The 2019 novel coronavirus (SARS-CoV-2), ident...   \n2  The evolutionary history of humans is characte...   \n3  Sixty years ago, civil aviation was an infant ...   \n5  Enteroviruses are members of the family Picorn...   \n\n                                             authors  \\\n0              Al-Tawfiq, Jaffar A.; Memish, Ziad A.   \n1  Bryson-Cahn, Chloe; Duchin, Jeffrey; Makarewic...   \n2                                     Scarpino, S.V.   \n3                 Macintosh, Andrew; Wallace, Lailey   \n5  Hung, Hui-Chen; Chen, Tzu-Chun; Fang, Ming-Yu;...   \n\n                                journal  abstract_word_count  body_word_count  \\\n0           Expert Rev Anti Infect Ther                  174             2748   \n1                       Clin Infect Dis                   50              944   \n2  Encyclopedia of Evolutionary Biology                   72             2884   \n3                         Energy Policy                  137             5838   \n5                J Antimicrob Chemother                  260             3121   \n\n   body_unique_count language  \n0                996       en  \n1                486       en  \n2               1091       en  \n3               1587       en  \n5               1064       en  ",
      "text/html": "<div>\n<style scoped>\n    .dataframe tbody tr th:only-of-type {\n        vertical-align: middle;\n    }\n\n    .dataframe tbody tr th {\n        vertical-align: top;\n    }\n\n    .dataframe thead th {\n        text-align: right;\n    }\n</style>\n<table border=\"1\" class=\"dataframe\">\n  <thead>\n    <tr style=\"text-align: right;\">\n      <th></th>\n      <th>paper_id</th>\n      <th>doi</th>\n      <th>title</th>\n      <th>abstract</th>\n      <th>body_text</th>\n      <th>authors</th>\n      <th>journal</th>\n      <th>abstract_word_count</th>\n      <th>body_word_count</th>\n      <th>body_unique_count</th>\n      <th>language</th>\n    </tr>\n  </thead>\n  <tbody>\n    <tr>\n      <th>0</th>\n      <td>4ed70c27f14b7f9e6219fe605eae2b21a229f23c</td>\n      <td>10.1080/14787210.2017.1271712</td>\n      <td>Update on therapeutic options for Middle East ...</td>\n      <td>Introduction: The Middle East Respiratory Synd...</td>\n      <td>The Middle East respiratory syndrome coronavir...</td>\n      <td>Al-Tawfiq, Jaffar A.; Memish, Ziad A.</td>\n      <td>Expert Rev Anti Infect Ther</td>\n      <td>174</td>\n      <td>2748</td>\n      <td>996</td>\n      <td>en</td>\n    </tr>\n    <tr>\n      <th>1</th>\n      <td>306ef95a3a91e13a93bcc37fb2c509b67c0b5640</td>\n      <td>10.1093/cid/ciaa256</td>\n      <td>A Novel Approach for a Novel Pathogen: using a...</td>\n      <td>Thousands of people in the United States have ...</td>\n      <td>The 2019 novel coronavirus (SARS-CoV-2), ident...</td>\n      <td>Bryson-Cahn, Chloe; Duchin, Jeffrey; Makarewic...</td>\n      <td>Clin Infect Dis</td>\n      <td>50</td>\n      <td>944</td>\n      <td>486</td>\n      <td>en</td>\n    </tr>\n    <tr>\n      <th>2</th>\n      <td>ab680d5dbc4f51252da3473109a7885dd6b5eb6f</td>\n      <td>10.1016/b978-0-12-800049-6.00293-6</td>\n      <td>Evolutionary Medicine IV. Evolution and Emerge...</td>\n      <td>Abstract This article discusses how evolutiona...</td>\n      <td>The evolutionary history of humans is characte...</td>\n      <td>Scarpino, S.V.</td>\n      <td>Encyclopedia of Evolutionary Biology</td>\n      <td>72</td>\n      <td>2884</td>\n      <td>1091</td>\n      <td>en</td>\n    </tr>\n    <tr>\n      <th>3</th>\n      <td>6599ebbef3d868afac9daa4f80fa075675cf03bc</td>\n      <td>10.1016/j.enpol.2008.08.029</td>\n      <td>International aviation emissions to 2025: Can ...</td>\n      <td>Abstract International aviation is growing rap...</td>\n      <td>Sixty years ago, civil aviation was an infant ...</td>\n      <td>Macintosh, Andrew; Wallace, Lailey</td>\n      <td>Energy Policy</td>\n      <td>137</td>\n      <td>5838</td>\n      <td>1587</td>\n      <td>en</td>\n    </tr>\n    <tr>\n      <th>5</th>\n      <td>44290ff75bad8ffaf5d3028420739ce7b08dc2a9</td>\n      <td>10.1093/jac/dkp502</td>\n      <td>Inhibition of enterovirus 71 replication and t...</td>\n      <td>OBJECTIVES: Enterovirus 71 (EV71) causes serio...</td>\n      <td>Enteroviruses are members of the family Picorn...</td>\n      <td>Hung, Hui-Chen; Chen, Tzu-Chun; Fang, Ming-Yu;...</td>\n      <td>J Antimicrob Chemother</td>\n      <td>260</td>\n      <td>3121</td>\n      <td>1064</td>\n      <td>en</td>\n    </tr>\n  </tbody>\n</table>\n</div>"
     },
     "metadata": {},
     "execution_count": 233
    }
   ],
   "source": [
    "covid_df = covid_df[covid_df['language'] == 'en'] # i.e. only select articles written in english, as it'll help parsing/NLP "
   ]
  },
  {
   "cell_type": "code",
   "execution_count": 236,
   "metadata": {},
   "outputs": [
    {
     "output_type": "execute_result",
     "data": {
      "text/plain": "count     29029\nunique        1\ntop          en\nfreq      29029\nName: language, dtype: object"
     },
     "metadata": {},
     "execution_count": 236
    }
   ],
   "source": [
    "covid_df['language'].describe()"
   ]
  },
  {
   "cell_type": "markdown",
   "metadata": {},
   "source": [
    "# NLP + feature extraction\n",
    "Now that we've successfully cleaned out the data and gotten all the text in a consistent fashion, now we're going to create a bag-of-words model and vectorize each of the documents! This'll then allow us to do some better visualization and run some cool ~__machine learning__~ like PCA and t-SNE to both reduce dimensionality and visualize this better! "
   ]
  },
  {
   "cell_type": "code",
   "execution_count": null,
   "metadata": {},
   "outputs": [],
   "source": [
    "# NLP analysis using Spacy\n",
    "import spacy \n",
    "from space.lang.en.stop_words import STOP_WORDS\n",
    "\n",
    "stop_words = STOP_WORDS\n",
    "print(stop_words)"
   ]
  }
 ],
 "metadata": {
  "language_info": {
   "name": "python",
   "codemirror_mode": {
    "name": "ipython",
    "version": 3
   },
   "version": "3.7.6-final"
  },
  "orig_nbformat": 2,
  "file_extension": ".py",
  "mimetype": "text/x-python",
  "name": "python",
  "npconvert_exporter": "python",
  "pygments_lexer": "ipython3",
  "version": 3,
  "kernelspec": {
   "name": "python3",
   "display_name": "Python 3"
  }
 },
 "nbformat": 4,
 "nbformat_minor": 2
}