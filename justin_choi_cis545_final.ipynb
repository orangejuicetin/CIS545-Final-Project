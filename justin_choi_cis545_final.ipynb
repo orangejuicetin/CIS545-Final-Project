{
 "cells": [
  {
   "cell_type": "markdown",
   "metadata": {},
   "source": [
    "# CIS545: Final Project - CORD-19 Dataset\n",
    "## Justin Choi\n",
    "## TA: Hoyt Gong\n",
    "\n",
    "Hi there! For this project, I opted to use the COVID-19 research challenge dataset, which they named \"CORD-19\" (I promise, the title wasn't a typo haha), and below you'll see the respective EDA and modeling I've done for the dataset! Hope you enjoy ~\n"
   ]
  },
  {
   "cell_type": "code",
   "execution_count": 1,
   "metadata": {},
   "outputs": [],
   "source": [
    "import pandas as pd \n",
    "import numpy as np \n",
    "import sklearn\n",
    "import seaborn as sns\n",
    "import matplotlib.pyplot as plt\n",
    "plt.style.use('fivethirtyeight')\n",
    "import glob, os\n",
    "import json\n",
    "import nltk\n"
   ]
  },
  {
   "cell_type": "markdown",
   "metadata": {},
   "source": [
    "# The Data \n",
    "Thanks to all the ~ useful ~ skills we've picked up over the course of this semester, we'll start with everyone's favorite tedious, time-consuming task - data cleaning! woo hoooooOOOOooOo who doesn't lüv missing values and weird formatting. \n",
    "\n",
    "Most of the work in this section was basically just finding good ways to extract the text from the json format to put into the dataframe, and then proceeded to clean it using basic `pandas` and the `langdetect` package in order to filter out any articles not in English in order to standardize the data and simplify visualization/processing/modeling later on! "
   ]
  },
  {
   "cell_type": "code",
   "execution_count": 2,
   "metadata": {
    "tags": [
     "outputPrepend",
     "outputPrepend",
     "outputPrepend",
     "outputPrepend",
     "outputPrepend",
     "outputPrepend",
     "outputPrepend",
     "outputPrepend",
     "outputPrepend",
     "outputPrepend",
     "outputPrepend"
    ]
   },
   "outputs": [
    {
     "output_type": "stream",
     "name": "stdout",
     "text": "done\n"
    }
   ],
   "source": [
    "metadata_df = pd.read_csv('./CORD-19-research-challenge/metadata.csv')\n",
    "\n",
    "# Import all the json files\n",
    "cord_19_folder = './CORD-19-research-challenge/'\n",
    "list_of_files = []; # only going to take those from pdf_json! not pmc_json\n",
    "for root, dirs, files in os.walk(cord_19_folder):\n",
    "    for name in files:\n",
    "        if (name.endswith('.json')):\n",
    "            full_path = os.path.join(root, name)\n",
    "            list_of_files.append(full_path)\n",
    "sorted(list_of_files)\n",
    "print('done')\n",
    "\n",
    "# ALTERNATE\n",
    "\n",
    "# all_json = glob.glob(f'{cord_19_folder}/**/*.json', recursive=True)\n",
    "# len(all_json)\n"
   ]
  },
  {
   "cell_type": "code",
   "execution_count": 3,
   "metadata": {
    "tags": [
     "outputPrepend"
    ]
   },
   "outputs": [
    {
     "output_type": "stream",
     "name": "stdout",
     "text": "PMC1403753: Migration, transmigration, [1] return migration, and remigration constitute defining elements of the current and future world order. More than 700 million people (including visitors on business or personal/family trips) traverse nation-state borders annually [2,3] and one million per week move between the global South and the global North [4]. The enormity of contemporary transnational mobility is illustrated by the case of Australia. In the past half century, Australia's \"resident population ha...\n"
    }
   ],
   "source": [
    "class JsonReader:\n",
    "    def __init__(self, file_path):\n",
    "        with open(file_path) as file: \n",
    "            content = json.load(file)\n",
    "            # start to insert body text \n",
    "            self.paper_id = content['paper_id']\n",
    "            self.body_text = [] \n",
    "            for entry in content['body_text']:\n",
    "                self.body_text.append(entry['text'])\n",
    "            self.body_text = '\\n'.join(self.body_text)\n",
    "    def __repr__(self):\n",
    "        return f'{self.paper_id}: {self.body_text[:500]}...'\n",
    "\n",
    "random_json = list_of_files[47404]\n",
    "sample_article = JsonReader(random_json)\n",
    "print(sample_article)"
   ]
  },
  {
   "cell_type": "code",
   "execution_count": 4,
   "metadata": {},
   "outputs": [
    {
     "output_type": "stream",
     "name": "stdout",
     "text": "Processing 0 of 59311\nProcessing 5931 of 59311\nProcessing 11862 of 59311\nProcessing 17793 of 59311\nProcessing 23724 of 59311\nProcessing 29655 of 59311\nProcessing 35586 of 59311\nProcessing 41517 of 59311\nProcessing 47448 of 59311\nProcessing 53379 of 59311\nProcessing 59310 of 59311\n"
    }
   ],
   "source": [
    "input = {'paper_id': [], 'doi':[],  'title': [], 'abstract': [], 'body_text': [], 'authors': [], 'journal': []}\n",
    "\n",
    "for index, entry in enumerate(list_of_files):\n",
    "    if index % (len(list_of_files) // 10) ==    0:\n",
    "        print(f'Processing {index} of {len(list_of_files)}')\n",
    "    try: \n",
    "        article = JsonReader(entry)\n",
    "    except Exception as e: \n",
    "        continue #means that we don't have a valid file format  \n",
    "    \n",
    "    metadata = metadata_df.loc[metadata_df['sha'] == article.paper_id]\n",
    "    if len(metadata) == 0:\n",
    "        continue # no such metadata for paper in our csv, skip\n",
    "\n",
    "    input['body_text'].append(article.body_text)\n",
    "    input['paper_id'].append(article.paper_id)\n",
    "\n",
    "    # add in metadata \n",
    "    title = metadata['title'].values[0] \n",
    "    doi = metadata['doi'].values[0] \n",
    "    abstract = metadata['abstract'].values[0] \n",
    "    authors = metadata['authors'].values[0] \n",
    "    journal = metadata['journal'].values[0] \n",
    "\n",
    "    input['title'].append(title)\n",
    "    input['doi'].append(doi)\n",
    "    input['abstract'].append(abstract)\n",
    "    input['authors'].append(authors)\n",
    "    input['journal'].append(journal)\n",
    "\n"
   ]
  },
  {
   "cell_type": "code",
   "execution_count": 22,
   "metadata": {},
   "outputs": [
    {
     "output_type": "stream",
     "name": "stdout",
     "text": "finished creating dataframe from input dictionary\nnumber of rows: 36009\n<class 'pandas.core.frame.DataFrame'>\nRangeIndex: 36009 entries, 0 to 36008\nData columns (total 7 columns):\n #   Column     Non-Null Count  Dtype \n---  ------     --------------  ----- \n 0   paper_id   36009 non-null  object\n 1   doi        35672 non-null  object\n 2   title      35973 non-null  object\n 3   abstract   31675 non-null  object\n 4   body_text  36009 non-null  object\n 5   authors    35413 non-null  object\n 6   journal    34277 non-null  object\ndtypes: object(7)\nmemory usage: 1.9+ MB\n"
    }
   ],
   "source": [
    "covid_df = pd.DataFrame(input, columns=['paper_id', 'doi', 'title', 'abstract', 'body_text', 'authors', 'journal'])\n",
    "print('finished creating dataframe from input dictionary')\n",
    "rows, cols = covid_df.shape\n",
    "print(f'number of rows: {rows}')\n",
    "covid_df.info()"
   ]
  },
  {
   "cell_type": "code",
   "execution_count": 23,
   "metadata": {},
   "outputs": [
    {
     "output_type": "stream",
     "name": "stdout",
     "text": "finished dropping articles with null abstracts/body text/titles\nnumber of rows: 29600\n"
    }
   ],
   "source": [
    "covid_df.dropna(inplace=True)\n",
    "print('finished dropping articles with null abstracts/body text/titles')\n",
    "rows, cols = covid_df.shape\n",
    "print(f'number of rows: {rows}')"
   ]
  },
  {
   "cell_type": "code",
   "execution_count": 24,
   "metadata": {},
   "outputs": [],
   "source": [
    "covid_df['abstract_word_count'] = covid_df['abstract'].apply(lambda x : len(x.strip().split()))\n",
    "covid_df['body_word_count'] = covid_df['body_text'].apply(lambda x : len(x.strip().split()))\n",
    "covid_df['body_unique_count'] = covid_df['body_text'].apply(lambda x : len(set(x.strip().split())))\n"
   ]
  },
  {
   "cell_type": "code",
   "execution_count": 25,
   "metadata": {},
   "outputs": [
    {
     "output_type": "execute_result",
     "data": {
      "text/plain": "                                   paper_id  \\\n0  4ed70c27f14b7f9e6219fe605eae2b21a229f23c   \n1  306ef95a3a91e13a93bcc37fb2c509b67c0b5640   \n2  ab680d5dbc4f51252da3473109a7885dd6b5eb6f   \n3  6599ebbef3d868afac9daa4f80fa075675cf03bc   \n5  44290ff75bad8ffaf5d3028420739ce7b08dc2a9   \n\n                                  doi  \\\n0       10.1080/14787210.2017.1271712   \n1                 10.1093/cid/ciaa256   \n2  10.1016/b978-0-12-800049-6.00293-6   \n3         10.1016/j.enpol.2008.08.029   \n5                  10.1093/jac/dkp502   \n\n                                               title  \\\n0  Update on therapeutic options for Middle East ...   \n1  A Novel Approach for a Novel Pathogen: using a...   \n2  Evolutionary Medicine IV. Evolution and Emerge...   \n3  International aviation emissions to 2025: Can ...   \n5  Inhibition of enterovirus 71 replication and t...   \n\n                                            abstract  \\\n0  Introduction: The Middle East Respiratory Synd...   \n1  Thousands of people in the United States have ...   \n2  Abstract This article discusses how evolutiona...   \n3  Abstract International aviation is growing rap...   \n5  OBJECTIVES: Enterovirus 71 (EV71) causes serio...   \n\n                                           body_text  \\\n0  The Middle East respiratory syndrome coronavir...   \n1  The 2019 novel coronavirus (SARS-CoV-2), ident...   \n2  The evolutionary history of humans is characte...   \n3  Sixty years ago, civil aviation was an infant ...   \n5  Enteroviruses are members of the family Picorn...   \n\n                                             authors  \\\n0              Al-Tawfiq, Jaffar A.; Memish, Ziad A.   \n1  Bryson-Cahn, Chloe; Duchin, Jeffrey; Makarewic...   \n2                                     Scarpino, S.V.   \n3                 Macintosh, Andrew; Wallace, Lailey   \n5  Hung, Hui-Chen; Chen, Tzu-Chun; Fang, Ming-Yu;...   \n\n                                journal  abstract_word_count  body_word_count  \\\n0           Expert Rev Anti Infect Ther                  174             2748   \n1                       Clin Infect Dis                   50              944   \n2  Encyclopedia of Evolutionary Biology                   72             2884   \n3                         Energy Policy                  137             5838   \n5                J Antimicrob Chemother                  260             3121   \n\n   body_unique_count  \n0                996  \n1                486  \n2               1091  \n3               1587  \n5               1064  ",
      "text/html": "<div>\n<style scoped>\n    .dataframe tbody tr th:only-of-type {\n        vertical-align: middle;\n    }\n\n    .dataframe tbody tr th {\n        vertical-align: top;\n    }\n\n    .dataframe thead th {\n        text-align: right;\n    }\n</style>\n<table border=\"1\" class=\"dataframe\">\n  <thead>\n    <tr style=\"text-align: right;\">\n      <th></th>\n      <th>paper_id</th>\n      <th>doi</th>\n      <th>title</th>\n      <th>abstract</th>\n      <th>body_text</th>\n      <th>authors</th>\n      <th>journal</th>\n      <th>abstract_word_count</th>\n      <th>body_word_count</th>\n      <th>body_unique_count</th>\n    </tr>\n  </thead>\n  <tbody>\n    <tr>\n      <th>0</th>\n      <td>4ed70c27f14b7f9e6219fe605eae2b21a229f23c</td>\n      <td>10.1080/14787210.2017.1271712</td>\n      <td>Update on therapeutic options for Middle East ...</td>\n      <td>Introduction: The Middle East Respiratory Synd...</td>\n      <td>The Middle East respiratory syndrome coronavir...</td>\n      <td>Al-Tawfiq, Jaffar A.; Memish, Ziad A.</td>\n      <td>Expert Rev Anti Infect Ther</td>\n      <td>174</td>\n      <td>2748</td>\n      <td>996</td>\n    </tr>\n    <tr>\n      <th>1</th>\n      <td>306ef95a3a91e13a93bcc37fb2c509b67c0b5640</td>\n      <td>10.1093/cid/ciaa256</td>\n      <td>A Novel Approach for a Novel Pathogen: using a...</td>\n      <td>Thousands of people in the United States have ...</td>\n      <td>The 2019 novel coronavirus (SARS-CoV-2), ident...</td>\n      <td>Bryson-Cahn, Chloe; Duchin, Jeffrey; Makarewic...</td>\n      <td>Clin Infect Dis</td>\n      <td>50</td>\n      <td>944</td>\n      <td>486</td>\n    </tr>\n    <tr>\n      <th>2</th>\n      <td>ab680d5dbc4f51252da3473109a7885dd6b5eb6f</td>\n      <td>10.1016/b978-0-12-800049-6.00293-6</td>\n      <td>Evolutionary Medicine IV. Evolution and Emerge...</td>\n      <td>Abstract This article discusses how evolutiona...</td>\n      <td>The evolutionary history of humans is characte...</td>\n      <td>Scarpino, S.V.</td>\n      <td>Encyclopedia of Evolutionary Biology</td>\n      <td>72</td>\n      <td>2884</td>\n      <td>1091</td>\n    </tr>\n    <tr>\n      <th>3</th>\n      <td>6599ebbef3d868afac9daa4f80fa075675cf03bc</td>\n      <td>10.1016/j.enpol.2008.08.029</td>\n      <td>International aviation emissions to 2025: Can ...</td>\n      <td>Abstract International aviation is growing rap...</td>\n      <td>Sixty years ago, civil aviation was an infant ...</td>\n      <td>Macintosh, Andrew; Wallace, Lailey</td>\n      <td>Energy Policy</td>\n      <td>137</td>\n      <td>5838</td>\n      <td>1587</td>\n    </tr>\n    <tr>\n      <th>5</th>\n      <td>44290ff75bad8ffaf5d3028420739ce7b08dc2a9</td>\n      <td>10.1093/jac/dkp502</td>\n      <td>Inhibition of enterovirus 71 replication and t...</td>\n      <td>OBJECTIVES: Enterovirus 71 (EV71) causes serio...</td>\n      <td>Enteroviruses are members of the family Picorn...</td>\n      <td>Hung, Hui-Chen; Chen, Tzu-Chun; Fang, Ming-Yu;...</td>\n      <td>J Antimicrob Chemother</td>\n      <td>260</td>\n      <td>3121</td>\n      <td>1064</td>\n    </tr>\n  </tbody>\n</table>\n</div>"
     },
     "metadata": {},
     "execution_count": 25
    }
   ],
   "source": [
    "# visualiation check to see if data is finished being cleaned \n",
    "covid_df.head()\n"
   ]
  },
  {
   "cell_type": "code",
   "execution_count": 26,
   "metadata": {},
   "outputs": [
    {
     "output_type": "stream",
     "name": "stdout",
     "text": "<class 'pandas.core.frame.DataFrame'>\nInt64Index: 29600 entries, 0 to 36008\nData columns (total 10 columns):\n #   Column               Non-Null Count  Dtype \n---  ------               --------------  ----- \n 0   paper_id             29600 non-null  object\n 1   doi                  29600 non-null  object\n 2   title                29600 non-null  object\n 3   abstract             29600 non-null  object\n 4   body_text            29600 non-null  object\n 5   authors              29600 non-null  object\n 6   journal              29600 non-null  object\n 7   abstract_word_count  29600 non-null  int64 \n 8   body_word_count      29600 non-null  int64 \n 9   body_unique_count    29600 non-null  int64 \ndtypes: int64(3), object(7)\nmemory usage: 2.5+ MB\n"
    }
   ],
   "source": [
    "covid_df.info()"
   ]
  },
  {
   "cell_type": "code",
   "execution_count": 27,
   "metadata": {},
   "outputs": [
    {
     "output_type": "execute_result",
     "data": {
      "text/plain": "count       29600\nunique      29543\ntop       Unknown\nfreq           21\nName: abstract, dtype: object"
     },
     "metadata": {},
     "execution_count": 27
    }
   ],
   "source": [
    "#check to see if there are duplicates\n",
    "covid_df['abstract'].describe()"
   ]
  },
  {
   "cell_type": "code",
   "execution_count": 28,
   "metadata": {},
   "outputs": [],
   "source": [
    "covid_df.drop_duplicates(subset=['abstract', 'body_text'], inplace=True)"
   ]
  },
  {
   "cell_type": "code",
   "execution_count": 29,
   "metadata": {},
   "outputs": [
    {
     "output_type": "execute_result",
     "data": {
      "text/plain": "count       29597\nunique      29543\ntop       Unknown\nfreq           21\nName: abstract, dtype: object"
     },
     "metadata": {},
     "execution_count": 29
    }
   ],
   "source": [
    "covid_df['abstract'].describe()"
   ]
  },
  {
   "cell_type": "code",
   "execution_count": 30,
   "metadata": {},
   "outputs": [
    {
     "output_type": "execute_result",
     "data": {
      "text/plain": "count                                                 29597\nunique                                                29591\ntop       Swollen head syndrome (SHS) in avian species w...\nfreq                                                      2\nName: body_text, dtype: object"
     },
     "metadata": {},
     "execution_count": 30
    }
   ],
   "source": [
    "covid_df['body_text'].describe()"
   ]
  },
  {
   "cell_type": "code",
   "execution_count": 31,
   "metadata": {},
   "outputs": [
    {
     "output_type": "execute_result",
     "data": {
      "text/plain": "       abstract_word_count  body_word_count  body_unique_count\ncount         29597.000000     29597.000000       29597.000000\nmean            194.711356      4560.325878        1425.199007\nstd             151.302225      3528.817632         748.579044\nmin               1.000000         2.000000           2.000000\n25%             140.000000      2705.000000         989.000000\n50%             191.000000      3847.000000        1288.000000\n75%             243.000000      5533.000000        1695.000000\nmax           18000.000000    171948.000000       25156.000000",
      "text/html": "<div>\n<style scoped>\n    .dataframe tbody tr th:only-of-type {\n        vertical-align: middle;\n    }\n\n    .dataframe tbody tr th {\n        vertical-align: top;\n    }\n\n    .dataframe thead th {\n        text-align: right;\n    }\n</style>\n<table border=\"1\" class=\"dataframe\">\n  <thead>\n    <tr style=\"text-align: right;\">\n      <th></th>\n      <th>abstract_word_count</th>\n      <th>body_word_count</th>\n      <th>body_unique_count</th>\n    </tr>\n  </thead>\n  <tbody>\n    <tr>\n      <th>count</th>\n      <td>29597.000000</td>\n      <td>29597.000000</td>\n      <td>29597.000000</td>\n    </tr>\n    <tr>\n      <th>mean</th>\n      <td>194.711356</td>\n      <td>4560.325878</td>\n      <td>1425.199007</td>\n    </tr>\n    <tr>\n      <th>std</th>\n      <td>151.302225</td>\n      <td>3528.817632</td>\n      <td>748.579044</td>\n    </tr>\n    <tr>\n      <th>min</th>\n      <td>1.000000</td>\n      <td>2.000000</td>\n      <td>2.000000</td>\n    </tr>\n    <tr>\n      <th>25%</th>\n      <td>140.000000</td>\n      <td>2705.000000</td>\n      <td>989.000000</td>\n    </tr>\n    <tr>\n      <th>50%</th>\n      <td>191.000000</td>\n      <td>3847.000000</td>\n      <td>1288.000000</td>\n    </tr>\n    <tr>\n      <th>75%</th>\n      <td>243.000000</td>\n      <td>5533.000000</td>\n      <td>1695.000000</td>\n    </tr>\n    <tr>\n      <th>max</th>\n      <td>18000.000000</td>\n      <td>171948.000000</td>\n      <td>25156.000000</td>\n    </tr>\n  </tbody>\n</table>\n</div>"
     },
     "metadata": {},
     "execution_count": 31
    }
   ],
   "source": [
    "covid_df.describe()"
   ]
  },
  {
   "cell_type": "code",
   "execution_count": 40,
   "metadata": {},
   "outputs": [
    {
     "output_type": "stream",
     "name": "stderr",
     "text": "100%|██████████| 29025/29025 [01:58<00:00, 244.53it/s]\n"
    }
   ],
   "source": [
    "from langdetect import detect\n",
    "from tqdm import tqdm\n",
    "\n",
    "languages = [] # make list that you can port directly into covid_df as column\n",
    "\n",
    "for i in tqdm(range(len(covid_df))):\n",
    "    row_text = covid_df.iloc[i]['body_text'].split(\" \") \n",
    "    lang = 'en' # set default lang to be english \n",
    "\n",
    "    # try to just use the intro 25 words to detect language\n",
    "    try:\n",
    "        if (len(row_text)) > 25: \n",
    "            lang = detect(\" \".join(row_text[:25]))\n",
    "        elif(len(row_text)) > 0:\n",
    "            lang = detect(\" \".join(row_text))\n",
    "    except Exception as e: # if body doesn't work, let's try abstract\n",
    "        everything = set(row_text)\n",
    "        try:\n",
    "            lang = detect(\" \".join(everything))\n",
    "        except Exception as e:\n",
    "            try: \n",
    "                lang = detect(covid_df.iloc(i)['abstract'])\n",
    "            except Exception as e:\n",
    "                lang = 'dunno'\n",
    "                continue\n",
    "    finally:\n",
    "        languages.append(lang)\n",
    "        "
   ]
  },
  {
   "cell_type": "code",
   "execution_count": 58,
   "metadata": {},
   "outputs": [
    {
     "output_type": "execute_result",
     "data": {
      "text/plain": "{'en': 29018, 'ca': 1, 'fr': 2, 'it': 2, 'pt': 1, 'af': 1}"
     },
     "metadata": {},
     "execution_count": 58
    }
   ],
   "source": [
    "lang_array = np.asarray(languages)\n",
    "covid_df['language'] = lang_array\n",
    "lang_dict = {}\n",
    "for language in lang_array:\n",
    "    if language in lang_dict:\n",
    "        lang_dict[language] += 1\n",
    "    else: \n",
    "        lang_dict[language] = 1\n",
    "lang_dict"
   ]
  },
  {
   "cell_type": "code",
   "execution_count": 42,
   "metadata": {},
   "outputs": [
    {
     "output_type": "execute_result",
     "data": {
      "text/plain": "                                   paper_id  \\\n0  4ed70c27f14b7f9e6219fe605eae2b21a229f23c   \n1  306ef95a3a91e13a93bcc37fb2c509b67c0b5640   \n2  ab680d5dbc4f51252da3473109a7885dd6b5eb6f   \n3  6599ebbef3d868afac9daa4f80fa075675cf03bc   \n5  44290ff75bad8ffaf5d3028420739ce7b08dc2a9   \n\n                                  doi  \\\n0       10.1080/14787210.2017.1271712   \n1                 10.1093/cid/ciaa256   \n2  10.1016/b978-0-12-800049-6.00293-6   \n3         10.1016/j.enpol.2008.08.029   \n5                  10.1093/jac/dkp502   \n\n                                               title  \\\n0  Update on therapeutic options for Middle East ...   \n1  A Novel Approach for a Novel Pathogen: using a...   \n2  Evolutionary Medicine IV. Evolution and Emerge...   \n3  International aviation emissions to 2025: Can ...   \n5  Inhibition of enterovirus 71 replication and t...   \n\n                                            abstract  \\\n0  Introduction: The Middle East Respiratory Synd...   \n1  Thousands of people in the United States have ...   \n2  Abstract This article discusses how evolutiona...   \n3  Abstract International aviation is growing rap...   \n5  OBJECTIVES: Enterovirus 71 (EV71) causes serio...   \n\n                                           body_text  \\\n0  The Middle East respiratory syndrome coronavir...   \n1  The 2019 novel coronavirus (SARS-CoV-2), ident...   \n2  The evolutionary history of humans is characte...   \n3  Sixty years ago, civil aviation was an infant ...   \n5  Enteroviruses are members of the family Picorn...   \n\n                                             authors  \\\n0              Al-Tawfiq, Jaffar A.; Memish, Ziad A.   \n1  Bryson-Cahn, Chloe; Duchin, Jeffrey; Makarewic...   \n2                                     Scarpino, S.V.   \n3                 Macintosh, Andrew; Wallace, Lailey   \n5  Hung, Hui-Chen; Chen, Tzu-Chun; Fang, Ming-Yu;...   \n\n                                journal  abstract_word_count  body_word_count  \\\n0           Expert Rev Anti Infect Ther                  174             2748   \n1                       Clin Infect Dis                   50              944   \n2  Encyclopedia of Evolutionary Biology                   72             2884   \n3                         Energy Policy                  137             5838   \n5                J Antimicrob Chemother                  260             3121   \n\n   body_unique_count language  \n0                996       en  \n1                486       en  \n2               1091       en  \n3               1587       en  \n5               1064       en  ",
      "text/html": "<div>\n<style scoped>\n    .dataframe tbody tr th:only-of-type {\n        vertical-align: middle;\n    }\n\n    .dataframe tbody tr th {\n        vertical-align: top;\n    }\n\n    .dataframe thead th {\n        text-align: right;\n    }\n</style>\n<table border=\"1\" class=\"dataframe\">\n  <thead>\n    <tr style=\"text-align: right;\">\n      <th></th>\n      <th>paper_id</th>\n      <th>doi</th>\n      <th>title</th>\n      <th>abstract</th>\n      <th>body_text</th>\n      <th>authors</th>\n      <th>journal</th>\n      <th>abstract_word_count</th>\n      <th>body_word_count</th>\n      <th>body_unique_count</th>\n      <th>language</th>\n    </tr>\n  </thead>\n  <tbody>\n    <tr>\n      <th>0</th>\n      <td>4ed70c27f14b7f9e6219fe605eae2b21a229f23c</td>\n      <td>10.1080/14787210.2017.1271712</td>\n      <td>Update on therapeutic options for Middle East ...</td>\n      <td>Introduction: The Middle East Respiratory Synd...</td>\n      <td>The Middle East respiratory syndrome coronavir...</td>\n      <td>Al-Tawfiq, Jaffar A.; Memish, Ziad A.</td>\n      <td>Expert Rev Anti Infect Ther</td>\n      <td>174</td>\n      <td>2748</td>\n      <td>996</td>\n      <td>en</td>\n    </tr>\n    <tr>\n      <th>1</th>\n      <td>306ef95a3a91e13a93bcc37fb2c509b67c0b5640</td>\n      <td>10.1093/cid/ciaa256</td>\n      <td>A Novel Approach for a Novel Pathogen: using a...</td>\n      <td>Thousands of people in the United States have ...</td>\n      <td>The 2019 novel coronavirus (SARS-CoV-2), ident...</td>\n      <td>Bryson-Cahn, Chloe; Duchin, Jeffrey; Makarewic...</td>\n      <td>Clin Infect Dis</td>\n      <td>50</td>\n      <td>944</td>\n      <td>486</td>\n      <td>en</td>\n    </tr>\n    <tr>\n      <th>2</th>\n      <td>ab680d5dbc4f51252da3473109a7885dd6b5eb6f</td>\n      <td>10.1016/b978-0-12-800049-6.00293-6</td>\n      <td>Evolutionary Medicine IV. Evolution and Emerge...</td>\n      <td>Abstract This article discusses how evolutiona...</td>\n      <td>The evolutionary history of humans is characte...</td>\n      <td>Scarpino, S.V.</td>\n      <td>Encyclopedia of Evolutionary Biology</td>\n      <td>72</td>\n      <td>2884</td>\n      <td>1091</td>\n      <td>en</td>\n    </tr>\n    <tr>\n      <th>3</th>\n      <td>6599ebbef3d868afac9daa4f80fa075675cf03bc</td>\n      <td>10.1016/j.enpol.2008.08.029</td>\n      <td>International aviation emissions to 2025: Can ...</td>\n      <td>Abstract International aviation is growing rap...</td>\n      <td>Sixty years ago, civil aviation was an infant ...</td>\n      <td>Macintosh, Andrew; Wallace, Lailey</td>\n      <td>Energy Policy</td>\n      <td>137</td>\n      <td>5838</td>\n      <td>1587</td>\n      <td>en</td>\n    </tr>\n    <tr>\n      <th>5</th>\n      <td>44290ff75bad8ffaf5d3028420739ce7b08dc2a9</td>\n      <td>10.1093/jac/dkp502</td>\n      <td>Inhibition of enterovirus 71 replication and t...</td>\n      <td>OBJECTIVES: Enterovirus 71 (EV71) causes serio...</td>\n      <td>Enteroviruses are members of the family Picorn...</td>\n      <td>Hung, Hui-Chen; Chen, Tzu-Chun; Fang, Ming-Yu;...</td>\n      <td>J Antimicrob Chemother</td>\n      <td>260</td>\n      <td>3121</td>\n      <td>1064</td>\n      <td>en</td>\n    </tr>\n  </tbody>\n</table>\n</div>"
     },
     "metadata": {},
     "execution_count": 42
    }
   ],
   "source": [
    "covid_df.head()"
   ]
  },
  {
   "cell_type": "markdown",
   "metadata": {},
   "source": [
    "# EDA \n",
    "\n",
    "Now, let's see if we can find anything cool within this data of parsed text! One thing we could do is tokenize it using the NLTK package in Python"
   ]
  },
  {
   "cell_type": "markdown",
   "metadata": {},
   "source": [
    "First, let's visualize the distribution of languages across our number of articles: "
   ]
  },
  {
   "cell_type": "code",
   "execution_count": 55,
   "metadata": {},
   "outputs": [
    {
     "output_type": "execute_result",
     "data": {
      "text/plain": "          paper_id    doi  title  abstract  body_text  authors  journal  \\\nlanguage                                                                  \naf               1      1      1         1          1        1        1   \nca               1      1      1         1          1        1        1   \nen           29018  29018  29018     29018      29018    29018    29018   \nfr               2      2      2         2          2        2        2   \nit               2      2      2         2          2        2        2   \npt               1      1      1         1          1        1        1   \n\n          abstract_word_count  body_word_count  body_unique_count  \nlanguage                                                           \naf                          1                1                  1  \nca                          1                1                  1  \nen                      29018            29018              29018  \nfr                          2                2                  2  \nit                          2                2                  2  \npt                          1                1                  1  ",
      "text/html": "<div>\n<style scoped>\n    .dataframe tbody tr th:only-of-type {\n        vertical-align: middle;\n    }\n\n    .dataframe tbody tr th {\n        vertical-align: top;\n    }\n\n    .dataframe thead th {\n        text-align: right;\n    }\n</style>\n<table border=\"1\" class=\"dataframe\">\n  <thead>\n    <tr style=\"text-align: right;\">\n      <th></th>\n      <th>paper_id</th>\n      <th>doi</th>\n      <th>title</th>\n      <th>abstract</th>\n      <th>body_text</th>\n      <th>authors</th>\n      <th>journal</th>\n      <th>abstract_word_count</th>\n      <th>body_word_count</th>\n      <th>body_unique_count</th>\n    </tr>\n    <tr>\n      <th>language</th>\n      <th></th>\n      <th></th>\n      <th></th>\n      <th></th>\n      <th></th>\n      <th></th>\n      <th></th>\n      <th></th>\n      <th></th>\n      <th></th>\n    </tr>\n  </thead>\n  <tbody>\n    <tr>\n      <th>af</th>\n      <td>1</td>\n      <td>1</td>\n      <td>1</td>\n      <td>1</td>\n      <td>1</td>\n      <td>1</td>\n      <td>1</td>\n      <td>1</td>\n      <td>1</td>\n      <td>1</td>\n    </tr>\n    <tr>\n      <th>ca</th>\n      <td>1</td>\n      <td>1</td>\n      <td>1</td>\n      <td>1</td>\n      <td>1</td>\n      <td>1</td>\n      <td>1</td>\n      <td>1</td>\n      <td>1</td>\n      <td>1</td>\n    </tr>\n    <tr>\n      <th>en</th>\n      <td>29018</td>\n      <td>29018</td>\n      <td>29018</td>\n      <td>29018</td>\n      <td>29018</td>\n      <td>29018</td>\n      <td>29018</td>\n      <td>29018</td>\n      <td>29018</td>\n      <td>29018</td>\n    </tr>\n    <tr>\n      <th>fr</th>\n      <td>2</td>\n      <td>2</td>\n      <td>2</td>\n      <td>2</td>\n      <td>2</td>\n      <td>2</td>\n      <td>2</td>\n      <td>2</td>\n      <td>2</td>\n      <td>2</td>\n    </tr>\n    <tr>\n      <th>it</th>\n      <td>2</td>\n      <td>2</td>\n      <td>2</td>\n      <td>2</td>\n      <td>2</td>\n      <td>2</td>\n      <td>2</td>\n      <td>2</td>\n      <td>2</td>\n      <td>2</td>\n    </tr>\n    <tr>\n      <th>pt</th>\n      <td>1</td>\n      <td>1</td>\n      <td>1</td>\n      <td>1</td>\n      <td>1</td>\n      <td>1</td>\n      <td>1</td>\n      <td>1</td>\n      <td>1</td>\n      <td>1</td>\n    </tr>\n  </tbody>\n</table>\n</div>"
     },
     "metadata": {},
     "execution_count": 55
    }
   ],
   "source": [
    "lang_distribution = covid_df.groupby(by=['language']).count() \n",
    "lang_distribution"
   ]
  },
  {
   "cell_type": "code",
   "execution_count": 54,
   "metadata": {},
   "outputs": [
    {
     "output_type": "execute_result",
     "data": {
      "text/plain": "<BarContainer object of 6 artists>"
     },
     "metadata": {},
     "execution_count": 54
    },
    {
     "output_type": "display_data",
     "data": {
      "text/plain": "<Figure size 432x288 with 1 Axes>",
      "image/svg+xml": "<?xml version=\"1.0\" encoding=\"utf-8\" standalone=\"no\"?>\n<!DOCTYPE svg PUBLIC \"-//W3C//DTD SVG 1.1//EN\"\n  \"http://www.w3.org/Graphics/SVG/1.1/DTD/svg11.dtd\">\n<!-- Created with matplotlib (https://matplotlib.org/) -->\n<svg height=\"266.458227pt\" version=\"1.1\" viewBox=\"0 0 438.2775 266.458227\" width=\"438.2775pt\" xmlns=\"http://www.w3.org/2000/svg\" xmlns:xlink=\"http://www.w3.org/1999/xlink\">\n <defs>\n  <style type=\"text/css\">\n*{stroke-linecap:butt;stroke-linejoin:round;}\n  </style>\n </defs>\n <g id=\"figure_1\">\n  <g id=\"patch_1\">\n   <path d=\"M 0 266.458227 \nL 438.2775 266.458227 \nL 438.2775 0 \nL 0 0 \nz\n\" style=\"fill:#f0f0f0;\"/>\n  </g>\n  <g id=\"axes_1\">\n   <g id=\"patch_2\">\n    <path d=\"M 55.2375 242.208852 \nL 431.0775 242.208852 \nL 431.0775 8.928852 \nL 55.2375 8.928852 \nz\n\" style=\"fill:#f0f0f0;\"/>\n   </g>\n   <g id=\"matplotlib.axis_1\">\n    <g id=\"xtick_1\">\n     <g id=\"line2d_1\">\n      <path clip-path=\"url(#p00e4f3d9e5)\" d=\"M 95.884773 242.208852 \nL 95.884773 8.928852 \n\" style=\"fill:none;stroke:#cbcbcb;\"/>\n     </g>\n     <g id=\"line2d_2\"/>\n     <g id=\"text_1\">\n      <!-- af -->\n      <defs>\n       <path d=\"M 34.28125 27.484375 \nQ 23.390625 27.484375 19.1875 25 \nQ 14.984375 22.515625 14.984375 16.5 \nQ 14.984375 11.71875 18.140625 8.90625 \nQ 21.296875 6.109375 26.703125 6.109375 \nQ 34.1875 6.109375 38.703125 11.40625 \nQ 43.21875 16.703125 43.21875 25.484375 \nL 43.21875 27.484375 \nz\nM 52.203125 31.203125 \nL 52.203125 0 \nL 43.21875 0 \nL 43.21875 8.296875 \nQ 40.140625 3.328125 35.546875 0.953125 \nQ 30.953125 -1.421875 24.3125 -1.421875 \nQ 15.921875 -1.421875 10.953125 3.296875 \nQ 6 8.015625 6 15.921875 \nQ 6 25.140625 12.171875 29.828125 \nQ 18.359375 34.515625 30.609375 34.515625 \nL 43.21875 34.515625 \nL 43.21875 35.40625 \nQ 43.21875 41.609375 39.140625 45 \nQ 35.0625 48.390625 27.6875 48.390625 \nQ 23 48.390625 18.546875 47.265625 \nQ 14.109375 46.140625 10.015625 43.890625 \nL 10.015625 52.203125 \nQ 14.9375 54.109375 19.578125 55.046875 \nQ 24.21875 56 28.609375 56 \nQ 40.484375 56 46.34375 49.84375 \nQ 52.203125 43.703125 52.203125 31.203125 \nz\n\" id=\"DejaVuSans-97\"/>\n       <path d=\"M 37.109375 75.984375 \nL 37.109375 68.5 \nL 28.515625 68.5 \nQ 23.6875 68.5 21.796875 66.546875 \nQ 19.921875 64.59375 19.921875 59.515625 \nL 19.921875 54.6875 \nL 34.71875 54.6875 \nL 34.71875 47.703125 \nL 19.921875 47.703125 \nL 19.921875 0 \nL 10.890625 0 \nL 10.890625 47.703125 \nL 2.296875 47.703125 \nL 2.296875 54.6875 \nL 10.890625 54.6875 \nL 10.890625 58.5 \nQ 10.890625 67.625 15.140625 71.796875 \nQ 19.390625 75.984375 28.609375 75.984375 \nz\n\" id=\"DejaVuSans-102\"/>\n      </defs>\n      <g transform=\"translate(89.130866 256.346665)scale(0.14 -0.14)\">\n       <use xlink:href=\"#DejaVuSans-97\"/>\n       <use x=\"61.279297\" xlink:href=\"#DejaVuSans-102\"/>\n      </g>\n     </g>\n    </g>\n    <g id=\"xtick_2\">\n     <g id=\"line2d_3\">\n      <path clip-path=\"url(#p00e4f3d9e5)\" d=\"M 154.793864 242.208852 \nL 154.793864 8.928852 \n\" style=\"fill:none;stroke:#cbcbcb;\"/>\n     </g>\n     <g id=\"line2d_4\"/>\n     <g id=\"text_2\">\n      <!-- ca -->\n      <defs>\n       <path d=\"M 48.78125 52.59375 \nL 48.78125 44.1875 \nQ 44.96875 46.296875 41.140625 47.34375 \nQ 37.3125 48.390625 33.40625 48.390625 \nQ 24.65625 48.390625 19.8125 42.84375 \nQ 14.984375 37.3125 14.984375 27.296875 \nQ 14.984375 17.28125 19.8125 11.734375 \nQ 24.65625 6.203125 33.40625 6.203125 \nQ 37.3125 6.203125 41.140625 7.25 \nQ 44.96875 8.296875 48.78125 10.40625 \nL 48.78125 2.09375 \nQ 45.015625 0.34375 40.984375 -0.53125 \nQ 36.96875 -1.421875 32.421875 -1.421875 \nQ 20.0625 -1.421875 12.78125 6.34375 \nQ 5.515625 14.109375 5.515625 27.296875 \nQ 5.515625 40.671875 12.859375 48.328125 \nQ 20.21875 56 33.015625 56 \nQ 37.15625 56 41.109375 55.140625 \nQ 45.0625 54.296875 48.78125 52.59375 \nz\n\" id=\"DejaVuSans-99\"/>\n      </defs>\n      <g transform=\"translate(146.65527 256.346665)scale(0.14 -0.14)\">\n       <use xlink:href=\"#DejaVuSans-99\"/>\n       <use x=\"54.980469\" xlink:href=\"#DejaVuSans-97\"/>\n      </g>\n     </g>\n    </g>\n    <g id=\"xtick_3\">\n     <g id=\"line2d_5\">\n      <path clip-path=\"url(#p00e4f3d9e5)\" d=\"M 213.702955 242.208852 \nL 213.702955 8.928852 \n\" style=\"fill:none;stroke:#cbcbcb;\"/>\n     </g>\n     <g id=\"line2d_6\"/>\n     <g id=\"text_3\">\n      <!-- en -->\n      <defs>\n       <path d=\"M 56.203125 29.59375 \nL 56.203125 25.203125 \nL 14.890625 25.203125 \nQ 15.484375 15.921875 20.484375 11.0625 \nQ 25.484375 6.203125 34.421875 6.203125 \nQ 39.59375 6.203125 44.453125 7.46875 \nQ 49.3125 8.734375 54.109375 11.28125 \nL 54.109375 2.78125 \nQ 49.265625 0.734375 44.1875 -0.34375 \nQ 39.109375 -1.421875 33.890625 -1.421875 \nQ 20.796875 -1.421875 13.15625 6.1875 \nQ 5.515625 13.8125 5.515625 26.8125 \nQ 5.515625 40.234375 12.765625 48.109375 \nQ 20.015625 56 32.328125 56 \nQ 43.359375 56 49.78125 48.890625 \nQ 56.203125 41.796875 56.203125 29.59375 \nz\nM 47.21875 32.234375 \nQ 47.125 39.59375 43.09375 43.984375 \nQ 39.0625 48.390625 32.421875 48.390625 \nQ 24.90625 48.390625 20.390625 44.140625 \nQ 15.875 39.890625 15.1875 32.171875 \nz\n\" id=\"DejaVuSans-101\"/>\n       <path d=\"M 54.890625 33.015625 \nL 54.890625 0 \nL 45.90625 0 \nL 45.90625 32.71875 \nQ 45.90625 40.484375 42.875 44.328125 \nQ 39.84375 48.1875 33.796875 48.1875 \nQ 26.515625 48.1875 22.3125 43.546875 \nQ 18.109375 38.921875 18.109375 30.90625 \nL 18.109375 0 \nL 9.078125 0 \nL 9.078125 54.6875 \nL 18.109375 54.6875 \nL 18.109375 46.1875 \nQ 21.34375 51.125 25.703125 53.5625 \nQ 30.078125 56 35.796875 56 \nQ 45.21875 56 50.046875 50.171875 \nQ 54.890625 44.34375 54.890625 33.015625 \nz\n\" id=\"DejaVuSans-110\"/>\n      </defs>\n      <g transform=\"translate(204.959517 256.346665)scale(0.14 -0.14)\">\n       <use xlink:href=\"#DejaVuSans-101\"/>\n       <use x=\"61.523438\" xlink:href=\"#DejaVuSans-110\"/>\n      </g>\n     </g>\n    </g>\n    <g id=\"xtick_4\">\n     <g id=\"line2d_7\">\n      <path clip-path=\"url(#p00e4f3d9e5)\" d=\"M 272.612045 242.208852 \nL 272.612045 8.928852 \n\" style=\"fill:none;stroke:#cbcbcb;\"/>\n     </g>\n     <g id=\"line2d_8\"/>\n     <g id=\"text_4\">\n      <!-- fr -->\n      <defs>\n       <path d=\"M 41.109375 46.296875 \nQ 39.59375 47.171875 37.8125 47.578125 \nQ 36.03125 48 33.890625 48 \nQ 26.265625 48 22.1875 43.046875 \nQ 18.109375 38.09375 18.109375 28.8125 \nL 18.109375 0 \nL 9.078125 0 \nL 9.078125 54.6875 \nL 18.109375 54.6875 \nL 18.109375 46.1875 \nQ 20.953125 51.171875 25.484375 53.578125 \nQ 30.03125 56 36.53125 56 \nQ 37.453125 56 38.578125 55.875 \nQ 39.703125 55.765625 41.0625 55.515625 \nz\n\" id=\"DejaVuSans-114\"/>\n      </defs>\n      <g transform=\"translate(267.27017 256.346665)scale(0.14 -0.14)\">\n       <use xlink:href=\"#DejaVuSans-102\"/>\n       <use x=\"35.205078\" xlink:href=\"#DejaVuSans-114\"/>\n      </g>\n     </g>\n    </g>\n    <g id=\"xtick_5\">\n     <g id=\"line2d_9\">\n      <path clip-path=\"url(#p00e4f3d9e5)\" d=\"M 331.521136 242.208852 \nL 331.521136 8.928852 \n\" style=\"fill:none;stroke:#cbcbcb;\"/>\n     </g>\n     <g id=\"line2d_10\"/>\n     <g id=\"text_5\">\n      <!-- it -->\n      <defs>\n       <path d=\"M 9.421875 54.6875 \nL 18.40625 54.6875 \nL 18.40625 0 \nL 9.421875 0 \nz\nM 9.421875 75.984375 \nL 18.40625 75.984375 \nL 18.40625 64.59375 \nL 9.421875 64.59375 \nz\n\" id=\"DejaVuSans-105\"/>\n       <path d=\"M 18.3125 70.21875 \nL 18.3125 54.6875 \nL 36.8125 54.6875 \nL 36.8125 47.703125 \nL 18.3125 47.703125 \nL 18.3125 18.015625 \nQ 18.3125 11.328125 20.140625 9.421875 \nQ 21.96875 7.515625 27.59375 7.515625 \nL 36.8125 7.515625 \nL 36.8125 0 \nL 27.59375 0 \nQ 17.1875 0 13.234375 3.875 \nQ 9.28125 7.765625 9.28125 18.015625 \nL 9.28125 47.703125 \nL 2.6875 47.703125 \nL 2.6875 54.6875 \nL 9.28125 54.6875 \nL 9.28125 70.21875 \nz\n\" id=\"DejaVuSans-116\"/>\n      </defs>\n      <g transform=\"translate(326.83223 256.346665)scale(0.14 -0.14)\">\n       <use xlink:href=\"#DejaVuSans-105\"/>\n       <use x=\"27.783203\" xlink:href=\"#DejaVuSans-116\"/>\n      </g>\n     </g>\n    </g>\n    <g id=\"xtick_6\">\n     <g id=\"line2d_11\">\n      <path clip-path=\"url(#p00e4f3d9e5)\" d=\"M 390.430227 242.208852 \nL 390.430227 8.928852 \n\" style=\"fill:none;stroke:#cbcbcb;\"/>\n     </g>\n     <g id=\"line2d_12\"/>\n     <g id=\"text_6\">\n      <!-- pt -->\n      <defs>\n       <path d=\"M 18.109375 8.203125 \nL 18.109375 -20.796875 \nL 9.078125 -20.796875 \nL 9.078125 54.6875 \nL 18.109375 54.6875 \nL 18.109375 46.390625 \nQ 20.953125 51.265625 25.265625 53.625 \nQ 29.59375 56 35.59375 56 \nQ 45.5625 56 51.78125 48.09375 \nQ 58.015625 40.1875 58.015625 27.296875 \nQ 58.015625 14.40625 51.78125 6.484375 \nQ 45.5625 -1.421875 35.59375 -1.421875 \nQ 29.59375 -1.421875 25.265625 0.953125 \nQ 20.953125 3.328125 18.109375 8.203125 \nz\nM 48.6875 27.296875 \nQ 48.6875 37.203125 44.609375 42.84375 \nQ 40.53125 48.484375 33.40625 48.484375 \nQ 26.265625 48.484375 22.1875 42.84375 \nQ 18.109375 37.203125 18.109375 27.296875 \nQ 18.109375 17.390625 22.1875 11.75 \nQ 26.265625 6.109375 33.40625 6.109375 \nQ 40.53125 6.109375 44.609375 11.75 \nQ 48.6875 17.390625 48.6875 27.296875 \nz\n\" id=\"DejaVuSans-112\"/>\n      </defs>\n      <g transform=\"translate(383.242102 256.346665)scale(0.14 -0.14)\">\n       <use xlink:href=\"#DejaVuSans-112\"/>\n       <use x=\"63.476562\" xlink:href=\"#DejaVuSans-116\"/>\n      </g>\n     </g>\n    </g>\n   </g>\n   <g id=\"matplotlib.axis_2\">\n    <g id=\"ytick_1\">\n     <g id=\"line2d_13\">\n      <path clip-path=\"url(#p00e4f3d9e5)\" d=\"M 55.2375 242.208852 \nL 431.0775 242.208852 \n\" style=\"fill:none;stroke:#cbcbcb;\"/>\n     </g>\n     <g id=\"line2d_14\"/>\n     <g id=\"text_7\">\n      <!-- 0 -->\n      <defs>\n       <path d=\"M 31.78125 66.40625 \nQ 24.171875 66.40625 20.328125 58.90625 \nQ 16.5 51.421875 16.5 36.375 \nQ 16.5 21.390625 20.328125 13.890625 \nQ 24.171875 6.390625 31.78125 6.390625 \nQ 39.453125 6.390625 43.28125 13.890625 \nQ 47.125 21.390625 47.125 36.375 \nQ 47.125 51.421875 43.28125 58.90625 \nQ 39.453125 66.40625 31.78125 66.40625 \nz\nM 31.78125 74.21875 \nQ 44.046875 74.21875 50.515625 64.515625 \nQ 56.984375 54.828125 56.984375 36.375 \nQ 56.984375 17.96875 50.515625 8.265625 \nQ 44.046875 -1.421875 31.78125 -1.421875 \nQ 19.53125 -1.421875 13.0625 8.265625 \nQ 6.59375 17.96875 6.59375 36.375 \nQ 6.59375 54.828125 13.0625 64.515625 \nQ 19.53125 74.21875 31.78125 74.21875 \nz\n\" id=\"DejaVuSans-48\"/>\n      </defs>\n      <g transform=\"translate(42.83 247.527759)scale(0.14 -0.14)\">\n       <use xlink:href=\"#DejaVuSans-48\"/>\n      </g>\n     </g>\n    </g>\n    <g id=\"ytick_2\">\n     <g id=\"line2d_15\">\n      <path clip-path=\"url(#p00e4f3d9e5)\" d=\"M 55.2375 203.927195 \nL 431.0775 203.927195 \n\" style=\"fill:none;stroke:#cbcbcb;\"/>\n     </g>\n     <g id=\"line2d_16\"/>\n     <g id=\"text_8\">\n      <!-- 5000 -->\n      <defs>\n       <path d=\"M 10.796875 72.90625 \nL 49.515625 72.90625 \nL 49.515625 64.59375 \nL 19.828125 64.59375 \nL 19.828125 46.734375 \nQ 21.96875 47.46875 24.109375 47.828125 \nQ 26.265625 48.1875 28.421875 48.1875 \nQ 40.625 48.1875 47.75 41.5 \nQ 54.890625 34.8125 54.890625 23.390625 \nQ 54.890625 11.625 47.5625 5.09375 \nQ 40.234375 -1.421875 26.90625 -1.421875 \nQ 22.3125 -1.421875 17.546875 -0.640625 \nQ 12.796875 0.140625 7.71875 1.703125 \nL 7.71875 11.625 \nQ 12.109375 9.234375 16.796875 8.0625 \nQ 21.484375 6.890625 26.703125 6.890625 \nQ 35.15625 6.890625 40.078125 11.328125 \nQ 45.015625 15.765625 45.015625 23.390625 \nQ 45.015625 31 40.078125 35.4375 \nQ 35.15625 39.890625 26.703125 39.890625 \nQ 22.75 39.890625 18.8125 39.015625 \nQ 14.890625 38.140625 10.796875 36.28125 \nz\n\" id=\"DejaVuSans-53\"/>\n      </defs>\n      <g transform=\"translate(16.1075 209.246101)scale(0.14 -0.14)\">\n       <use xlink:href=\"#DejaVuSans-53\"/>\n       <use x=\"63.623047\" xlink:href=\"#DejaVuSans-48\"/>\n       <use x=\"127.246094\" xlink:href=\"#DejaVuSans-48\"/>\n       <use x=\"190.869141\" xlink:href=\"#DejaVuSans-48\"/>\n      </g>\n     </g>\n    </g>\n    <g id=\"ytick_3\">\n     <g id=\"line2d_17\">\n      <path clip-path=\"url(#p00e4f3d9e5)\" d=\"M 55.2375 165.645537 \nL 431.0775 165.645537 \n\" style=\"fill:none;stroke:#cbcbcb;\"/>\n     </g>\n     <g id=\"line2d_18\"/>\n     <g id=\"text_9\">\n      <!-- 10000 -->\n      <defs>\n       <path d=\"M 12.40625 8.296875 \nL 28.515625 8.296875 \nL 28.515625 63.921875 \nL 10.984375 60.40625 \nL 10.984375 69.390625 \nL 28.421875 72.90625 \nL 38.28125 72.90625 \nL 38.28125 8.296875 \nL 54.390625 8.296875 \nL 54.390625 0 \nL 12.40625 0 \nz\n\" id=\"DejaVuSans-49\"/>\n      </defs>\n      <g transform=\"translate(7.2 170.964443)scale(0.14 -0.14)\">\n       <use xlink:href=\"#DejaVuSans-49\"/>\n       <use x=\"63.623047\" xlink:href=\"#DejaVuSans-48\"/>\n       <use x=\"127.246094\" xlink:href=\"#DejaVuSans-48\"/>\n       <use x=\"190.869141\" xlink:href=\"#DejaVuSans-48\"/>\n       <use x=\"254.492188\" xlink:href=\"#DejaVuSans-48\"/>\n      </g>\n     </g>\n    </g>\n    <g id=\"ytick_4\">\n     <g id=\"line2d_19\">\n      <path clip-path=\"url(#p00e4f3d9e5)\" d=\"M 55.2375 127.363879 \nL 431.0775 127.363879 \n\" style=\"fill:none;stroke:#cbcbcb;\"/>\n     </g>\n     <g id=\"line2d_20\"/>\n     <g id=\"text_10\">\n      <!-- 15000 -->\n      <g transform=\"translate(7.2 132.682786)scale(0.14 -0.14)\">\n       <use xlink:href=\"#DejaVuSans-49\"/>\n       <use x=\"63.623047\" xlink:href=\"#DejaVuSans-53\"/>\n       <use x=\"127.246094\" xlink:href=\"#DejaVuSans-48\"/>\n       <use x=\"190.869141\" xlink:href=\"#DejaVuSans-48\"/>\n       <use x=\"254.492188\" xlink:href=\"#DejaVuSans-48\"/>\n      </g>\n     </g>\n    </g>\n    <g id=\"ytick_5\">\n     <g id=\"line2d_21\">\n      <path clip-path=\"url(#p00e4f3d9e5)\" d=\"M 55.2375 89.082222 \nL 431.0775 89.082222 \n\" style=\"fill:none;stroke:#cbcbcb;\"/>\n     </g>\n     <g id=\"line2d_22\"/>\n     <g id=\"text_11\">\n      <!-- 20000 -->\n      <defs>\n       <path d=\"M 19.1875 8.296875 \nL 53.609375 8.296875 \nL 53.609375 0 \nL 7.328125 0 \nL 7.328125 8.296875 \nQ 12.9375 14.109375 22.625 23.890625 \nQ 32.328125 33.6875 34.8125 36.53125 \nQ 39.546875 41.84375 41.421875 45.53125 \nQ 43.3125 49.21875 43.3125 52.78125 \nQ 43.3125 58.59375 39.234375 62.25 \nQ 35.15625 65.921875 28.609375 65.921875 \nQ 23.96875 65.921875 18.8125 64.3125 \nQ 13.671875 62.703125 7.8125 59.421875 \nL 7.8125 69.390625 \nQ 13.765625 71.78125 18.9375 73 \nQ 24.125 74.21875 28.421875 74.21875 \nQ 39.75 74.21875 46.484375 68.546875 \nQ 53.21875 62.890625 53.21875 53.421875 \nQ 53.21875 48.921875 51.53125 44.890625 \nQ 49.859375 40.875 45.40625 35.40625 \nQ 44.1875 33.984375 37.640625 27.21875 \nQ 31.109375 20.453125 19.1875 8.296875 \nz\n\" id=\"DejaVuSans-50\"/>\n      </defs>\n      <g transform=\"translate(7.2 94.401128)scale(0.14 -0.14)\">\n       <use xlink:href=\"#DejaVuSans-50\"/>\n       <use x=\"63.623047\" xlink:href=\"#DejaVuSans-48\"/>\n       <use x=\"127.246094\" xlink:href=\"#DejaVuSans-48\"/>\n       <use x=\"190.869141\" xlink:href=\"#DejaVuSans-48\"/>\n       <use x=\"254.492188\" xlink:href=\"#DejaVuSans-48\"/>\n      </g>\n     </g>\n    </g>\n    <g id=\"ytick_6\">\n     <g id=\"line2d_23\">\n      <path clip-path=\"url(#p00e4f3d9e5)\" d=\"M 55.2375 50.800564 \nL 431.0775 50.800564 \n\" style=\"fill:none;stroke:#cbcbcb;\"/>\n     </g>\n     <g id=\"line2d_24\"/>\n     <g id=\"text_12\">\n      <!-- 25000 -->\n      <g transform=\"translate(7.2 56.11947)scale(0.14 -0.14)\">\n       <use xlink:href=\"#DejaVuSans-50\"/>\n       <use x=\"63.623047\" xlink:href=\"#DejaVuSans-53\"/>\n       <use x=\"127.246094\" xlink:href=\"#DejaVuSans-48\"/>\n       <use x=\"190.869141\" xlink:href=\"#DejaVuSans-48\"/>\n       <use x=\"254.492188\" xlink:href=\"#DejaVuSans-48\"/>\n      </g>\n     </g>\n    </g>\n    <g id=\"ytick_7\">\n     <g id=\"line2d_25\">\n      <path clip-path=\"url(#p00e4f3d9e5)\" d=\"M 55.2375 12.518906 \nL 431.0775 12.518906 \n\" style=\"fill:none;stroke:#cbcbcb;\"/>\n     </g>\n     <g id=\"line2d_26\"/>\n     <g id=\"text_13\">\n      <!-- 30000 -->\n      <defs>\n       <path d=\"M 40.578125 39.3125 \nQ 47.65625 37.796875 51.625 33 \nQ 55.609375 28.21875 55.609375 21.1875 \nQ 55.609375 10.40625 48.1875 4.484375 \nQ 40.765625 -1.421875 27.09375 -1.421875 \nQ 22.515625 -1.421875 17.65625 -0.515625 \nQ 12.796875 0.390625 7.625 2.203125 \nL 7.625 11.71875 \nQ 11.71875 9.328125 16.59375 8.109375 \nQ 21.484375 6.890625 26.8125 6.890625 \nQ 36.078125 6.890625 40.9375 10.546875 \nQ 45.796875 14.203125 45.796875 21.1875 \nQ 45.796875 27.640625 41.28125 31.265625 \nQ 36.765625 34.90625 28.71875 34.90625 \nL 20.21875 34.90625 \nL 20.21875 43.015625 \nL 29.109375 43.015625 \nQ 36.375 43.015625 40.234375 45.921875 \nQ 44.09375 48.828125 44.09375 54.296875 \nQ 44.09375 59.90625 40.109375 62.90625 \nQ 36.140625 65.921875 28.71875 65.921875 \nQ 24.65625 65.921875 20.015625 65.03125 \nQ 15.375 64.15625 9.8125 62.3125 \nL 9.8125 71.09375 \nQ 15.4375 72.65625 20.34375 73.4375 \nQ 25.25 74.21875 29.59375 74.21875 \nQ 40.828125 74.21875 47.359375 69.109375 \nQ 53.90625 64.015625 53.90625 55.328125 \nQ 53.90625 49.265625 50.4375 45.09375 \nQ 46.96875 40.921875 40.578125 39.3125 \nz\n\" id=\"DejaVuSans-51\"/>\n      </defs>\n      <g transform=\"translate(7.2 17.837812)scale(0.14 -0.14)\">\n       <use xlink:href=\"#DejaVuSans-51\"/>\n       <use x=\"63.623047\" xlink:href=\"#DejaVuSans-48\"/>\n       <use x=\"127.246094\" xlink:href=\"#DejaVuSans-48\"/>\n       <use x=\"190.869141\" xlink:href=\"#DejaVuSans-48\"/>\n       <use x=\"254.492188\" xlink:href=\"#DejaVuSans-48\"/>\n      </g>\n     </g>\n    </g>\n   </g>\n   <g id=\"patch_3\">\n    <path clip-path=\"url(#p00e4f3d9e5)\" d=\"M 72.321136 242.208852 \nL 119.448409 242.208852 \nL 119.448409 242.201196 \nL 72.321136 242.201196 \nz\n\" style=\"fill:#008fd5;\"/>\n   </g>\n   <g id=\"patch_4\">\n    <path clip-path=\"url(#p00e4f3d9e5)\" d=\"M 131.230227 242.208852 \nL 178.3575 242.208852 \nL 178.3575 242.201196 \nL 131.230227 242.201196 \nz\n\" style=\"fill:#008fd5;\"/>\n   </g>\n   <g id=\"patch_5\">\n    <path clip-path=\"url(#p00e4f3d9e5)\" d=\"M 190.139318 242.208852 \nL 237.266591 242.208852 \nL 237.266591 20.037424 \nL 190.139318 20.037424 \nz\n\" style=\"fill:#008fd5;\"/>\n   </g>\n   <g id=\"patch_6\">\n    <path clip-path=\"url(#p00e4f3d9e5)\" d=\"M 249.048409 242.208852 \nL 296.175682 242.208852 \nL 296.175682 242.19354 \nL 249.048409 242.19354 \nz\n\" style=\"fill:#008fd5;\"/>\n   </g>\n   <g id=\"patch_7\">\n    <path clip-path=\"url(#p00e4f3d9e5)\" d=\"M 307.9575 242.208852 \nL 355.084773 242.208852 \nL 355.084773 242.19354 \nL 307.9575 242.19354 \nz\n\" style=\"fill:#008fd5;\"/>\n   </g>\n   <g id=\"patch_8\">\n    <path clip-path=\"url(#p00e4f3d9e5)\" d=\"M 366.866591 242.208852 \nL 413.993864 242.208852 \nL 413.993864 242.201196 \nL 366.866591 242.201196 \nz\n\" style=\"fill:#008fd5;\"/>\n   </g>\n   <g id=\"patch_9\">\n    <path d=\"M 55.2375 242.208852 \nL 55.2375 8.928852 \n\" style=\"fill:none;stroke:#f0f0f0;stroke-linecap:square;stroke-linejoin:miter;stroke-width:3;\"/>\n   </g>\n   <g id=\"patch_10\">\n    <path d=\"M 431.0775 242.208852 \nL 431.0775 8.928852 \n\" style=\"fill:none;stroke:#f0f0f0;stroke-linecap:square;stroke-linejoin:miter;stroke-width:3;\"/>\n   </g>\n   <g id=\"patch_11\">\n    <path d=\"M 55.2375 242.208852 \nL 431.0775 242.208852 \n\" style=\"fill:none;stroke:#f0f0f0;stroke-linecap:square;stroke-linejoin:miter;stroke-width:3;\"/>\n   </g>\n   <g id=\"patch_12\">\n    <path d=\"M 55.2375 8.928852 \nL 431.0775 8.928852 \n\" style=\"fill:none;stroke:#f0f0f0;stroke-linecap:square;stroke-linejoin:miter;stroke-width:3;\"/>\n   </g>\n  </g>\n </g>\n <defs>\n  <clipPath id=\"p00e4f3d9e5\">\n   <rect height=\"233.28\" width=\"375.84\" x=\"55.2375\" y=\"8.928852\"/>\n  </clipPath>\n </defs>\n</svg>\n",
      "image/png": "[encoded data removed]"
     },
     "metadata": {}
    }
   ],
   "source": [
    "plt.bar(lang_distribution.index, lang_distribution['title'])"
   ]
  },
  {
   "cell_type": "markdown",
   "metadata": {},
   "source": [
    "# NLP + feature extraction\n",
    "Now that we've successfully cleaned out the data and gotten all the text in a consistent fashion, now we're going to create a bag-of-words model and vectorize each of the documents! This'll then allow us to do some better visualization and run some cool ~__machine learning__~ like PCA and t-SNE to both reduce dimensionality and visualize this better! "
   ]
  },
  {
   "cell_type": "code",
   "execution_count": 44,
   "metadata": {},
   "outputs": [],
   "source": [
    "# covid_df = covid_df[covid_df['language'] == 'en'] # i.e. only select articles written in english, as it'll help parsing/NLP "
   ]
  },
  {
   "cell_type": "code",
   "execution_count": 45,
   "metadata": {},
   "outputs": [
    {
     "output_type": "execute_result",
     "data": {
      "text/plain": "count     29025\nunique        6\ntop          en\nfreq      29018\nName: language, dtype: object"
     },
     "metadata": {},
     "execution_count": 45
    }
   ],
   "source": [
    "covid_df['language'].describe()"
   ]
  },
  {
   "cell_type": "code",
   "execution_count": 46,
   "metadata": {},
   "outputs": [
    {
     "output_type": "error",
     "ename": "ModuleNotFoundError",
     "evalue": "No module named 'space'",
     "traceback": [
      "\u001b[0;31m---------------------------------------------------------------------------\u001b[0m",
      "\u001b[0;31mModuleNotFoundError\u001b[0m                       Traceback (most recent call last)",
      "\u001b[0;32m<ipython-input-46-adbd30e40f80>\u001b[0m in \u001b[0;36m<module>\u001b[0;34m\u001b[0m\n\u001b[1;32m      1\u001b[0m \u001b[0;31m# NLP analysis using Spacy\u001b[0m\u001b[0;34m\u001b[0m\u001b[0;34m\u001b[0m\u001b[0;34m\u001b[0m\u001b[0m\n\u001b[1;32m      2\u001b[0m \u001b[0;32mimport\u001b[0m \u001b[0mspacy\u001b[0m\u001b[0;34m\u001b[0m\u001b[0;34m\u001b[0m\u001b[0m\n\u001b[0;32m----> 3\u001b[0;31m \u001b[0;32mfrom\u001b[0m \u001b[0mspace\u001b[0m\u001b[0;34m.\u001b[0m\u001b[0mlang\u001b[0m\u001b[0;34m.\u001b[0m\u001b[0men\u001b[0m\u001b[0;34m.\u001b[0m\u001b[0mstop_words\u001b[0m \u001b[0;32mimport\u001b[0m \u001b[0mSTOP_WORDS\u001b[0m\u001b[0;34m\u001b[0m\u001b[0;34m\u001b[0m\u001b[0m\n\u001b[0m\u001b[1;32m      4\u001b[0m \u001b[0;34m\u001b[0m\u001b[0m\n\u001b[1;32m      5\u001b[0m \u001b[0mstop_words\u001b[0m \u001b[0;34m=\u001b[0m \u001b[0mSTOP_WORDS\u001b[0m\u001b[0;34m\u001b[0m\u001b[0;34m\u001b[0m\u001b[0m\n",
      "\u001b[0;31mModuleNotFoundError\u001b[0m: No module named 'space'"
     ]
    }
   ],
   "source": [
    "# NLP analysis using Spacy\n",
    "import spacy \n",
    "from space.lang.en.stop_words import STOP_WORDS\n",
    "\n",
    "stop_words = STOP_WORDS\n",
    "print(stop_words)"
   ]
  }
 ],
 "metadata": {
  "language_info": {
   "name": "python",
   "codemirror_mode": {
    "name": "ipython",
    "version": 3
   },
   "version": "3.7.6-final"
  },
  "orig_nbformat": 2,
  "file_extension": ".py",
  "mimetype": "text/x-python",
  "name": "python",
  "npconvert_exporter": "python",
  "pygments_lexer": "ipython3",
  "version": 3,
  "kernelspec": {
   "name": "python3",
   "display_name": "Python 3"
  }
 },
 "nbformat": 4,
 "nbformat_minor": 2
}